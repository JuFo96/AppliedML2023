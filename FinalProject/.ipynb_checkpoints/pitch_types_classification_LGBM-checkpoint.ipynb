{
 "cells": [
  {
   "cell_type": "code",
   "execution_count": 1,
   "id": "42885b62",
   "metadata": {},
   "outputs": [],
   "source": [
    "import numpy as np\n",
    "import pandas as pd\n",
    "from sklearn.model_selection import train_test_split\n",
    "import time\n",
    "from sklearn.inspection import permutation_importance\n",
    "import time\n",
    "from sklearn.model_selection import GridSearchCV\n",
    "from sklearn.model_selection import RandomizedSearchCV\n",
    "from scipy.stats import randint, poisson,uniform\n",
    "from sklearn.metrics import roc_curve, auc\n",
    "import matplotlib.pyplot as plt"
   ]
  },
  {
   "cell_type": "code",
   "execution_count": null,
   "id": "e7f6b26d",
   "metadata": {},
   "outputs": [
    {
     "name": "stdout",
     "output_type": "stream",
     "text": [
      "This is a large query, it may take a moment to complete\n",
      "Skipping offseason dates\n",
      "Skipping offseason dates\n"
     ]
    },
    {
     "name": "stderr",
     "output_type": "stream",
     "text": [
      " 31%|█████████████████████████                                                        | 62/200 [01:43<02:41,  1.17s/it]"
     ]
    }
   ],
   "source": [
    "from pybaseball import cache\n",
    "\n",
    "cache.enable()\n",
    "\n",
    "from pybaseball import statcast\n",
    "data = statcast(start_dt=\"2020-05-24\", end_dt=\"2021-06-25\")"
   ]
  },
  {
   "cell_type": "code",
   "execution_count": null,
   "id": "74e0ba3b",
   "metadata": {},
   "outputs": [],
   "source": [
    "data['pitch_type'].unique()"
   ]
  },
  {
   "cell_type": "code",
   "execution_count": null,
   "id": "2b747f99",
   "metadata": {},
   "outputs": [],
   "source": [
    "unique_values = data['pitch_type'].unique()\n",
    "pitch_dic = {value: index for index, value in enumerate(unique_values)}\n",
    "data['pitch_type'] = data['pitch_type'].replace(pitch_dic)\n",
    "data['pitch_type'].unique()"
   ]
  },
  {
   "cell_type": "code",
   "execution_count": null,
   "id": "9e2e8d3d",
   "metadata": {},
   "outputs": [],
   "source": [
    "data"
   ]
  },
  {
   "cell_type": "code",
   "execution_count": null,
   "id": "16b6c213",
   "metadata": {},
   "outputs": [],
   "source": [
    "### All data to numbers\n",
    "\n",
    "#Truth\n",
    "pitch_cluster_truth     = ['pitch_type']\n",
    "\n",
    "#data_FI = data.dropna(axis=1)\n",
    "data_FI = data.replace('<NA>', np.nan)\n",
    "data_FI = data.fillna(0)\n",
    "data_FI = data_FI.apply(pd.to_numeric, errors='coerce').fillna(0).astype(int)\n",
    "print(len(data_FI))\n",
    "y_training = data_FI[pitch_cluster_truth]\n",
    "#y_training_num = {value: index for index, value in enumerate(data_FI['pitch_type'].unique())}\n",
    "\n",
    "train = data_FI#[pitch_cluster_variables] \n",
    "train = train.drop(['pitch_type', 'player_name', 'events', 'game_date'], axis=1)"
   ]
  },
  {
   "cell_type": "code",
   "execution_count": null,
   "id": "2289999d",
   "metadata": {},
   "outputs": [],
   "source": [
    "train"
   ]
  },
  {
   "cell_type": "markdown",
   "id": "0126b2f7",
   "metadata": {},
   "source": [
    "## ---------------------------------------------------------------\n",
    "\n",
    "## 1 pitcher\n",
    "\n",
    "## ---------------------------------------------------------------\n"
   ]
  },
  {
   "cell_type": "code",
   "execution_count": null,
   "id": "a1a0b127",
   "metadata": {},
   "outputs": [],
   "source": [
    "one_pitcher = data[train['pitcher'] == 593576] ## Neeris hector"
   ]
  },
  {
   "cell_type": "code",
   "execution_count": null,
   "id": "76ce2ad2",
   "metadata": {},
   "outputs": [],
   "source": [
    "### All data to numbers\n",
    "\n",
    "#Truth\n",
    "pitch_cluster_truth     = ['pitch_type']\n",
    "\n",
    "#data_FI = data.dropna(axis=1)\n",
    "data_FI = one_pitcher.replace('<NA>', np.nan)\n",
    "data_FI = one_pitcher.fillna(0)\n",
    "data_FI = data_FI.apply(pd.to_numeric, errors='coerce').fillna(0).astype(int)\n",
    "print(len(data_FI))\n",
    "y_training_1p = data_FI[pitch_cluster_truth]\n",
    "#y_training_num = {value: index for index, value in enumerate(data_FI['pitch_type'].unique())}\n",
    "\n",
    "train_1p = data_FI#[pitch_cluster_variables] \n",
    "train_1p = train_1p.drop(['pitch_type', 'player_name', 'events', 'game_date'], axis=1)\n",
    "\n",
    "#Splitting training data\n",
    "X_train, X_valid, y_train, y_valid = train_test_split(train_1p, \n",
    "                                                        y_training_1p, \n",
    "                                                        test_size=0.20, \n",
    "                                                        random_state=42)\n",
    "y_train = y_train['pitch_type']\n",
    "y_valid = y_valid['pitch_type']"
   ]
  },
  {
   "cell_type": "code",
   "execution_count": null,
   "id": "64bf7f53",
   "metadata": {},
   "outputs": [],
   "source": [
    "print(y_training_1p['pitch_type'].unique())\n",
    "print(y_training_1p['pitch_type'].value_counts())"
   ]
  },
  {
   "cell_type": "code",
   "execution_count": null,
   "id": "6de5baa5",
   "metadata": {},
   "outputs": [],
   "source": [
    "y_training_1p['pitch_type'] = y_training_1p['pitch_type'].replace(y_training_1p['pitch_type'].unique(), [0,1,2,3])\n",
    "print(y_training_1p['pitch_type'].unique())\n",
    "print(y_training_1p['pitch_type'].value_counts())"
   ]
  },
  {
   "cell_type": "code",
   "execution_count": null,
   "id": "9e6bbc76",
   "metadata": {},
   "outputs": [],
   "source": [
    "print('This pitcher throws: [FF, FS, SI, SL]', )"
   ]
  },
  {
   "cell_type": "markdown",
   "id": "88f37c1a",
   "metadata": {},
   "source": [
    "### LGBM"
   ]
  },
  {
   "cell_type": "code",
   "execution_count": null,
   "id": "55354c9d",
   "metadata": {},
   "outputs": [],
   "source": [
    "import lightgbm as lgb\n",
    "from lightgbm import early_stopping"
   ]
  },
  {
   "cell_type": "code",
   "execution_count": null,
   "id": "a54464b5",
   "metadata": {},
   "outputs": [],
   "source": [
    "start = time.time()\n",
    "#####################################################################\n",
    "\n",
    "lgbm = lgb.LGBMClassifier(objective='multiclass', num_classes=len(y_training_1p['pitch_type'].unique()), metric='multi_logloss')\n",
    "lgbm.fit(X_train, y_train)\n",
    "\n",
    "lgbm_feat_import = permutation_importance(lgbm, X_valid, y_valid, \n",
    "                                          n_repeats=2, \n",
    "                                          random_state=0)\n",
    "#####################################################################\n",
    "end = time.time()\n",
    "print('Time taken: ', end-start, 'seconds')"
   ]
  },
  {
   "cell_type": "code",
   "execution_count": null,
   "id": "435e747e",
   "metadata": {},
   "outputs": [],
   "source": [
    "print('Feature importances in order:')\n",
    "rating = lgbm_feat_import.importances_mean\n",
    "rating.sort()\n",
    "for i in range(len(rating)):\n",
    "    print(f'Feature: {train_1p.columns[lgbm_feat_import.importances_mean.argsort()][i]} with rating: {rating[::-1][i]}')"
   ]
  },
  {
   "cell_type": "code",
   "execution_count": null,
   "id": "b945f08c",
   "metadata": {},
   "outputs": [],
   "source": [
    "# Creating new data from the best found features\n",
    "\n",
    "lgbm_feat =['release_speed', 'fielder_7', 'fielder_6', 'fielder_5']\n",
    "#Splitting training data\n",
    "X_train_lgbm, X_valid_lgbm, y_train_lgbm, y_valid_lgbm = train_test_split(train_1p[lgbm_feat], \n",
    "                                                        y_training_1p, \n",
    "                                                        test_size=0.20, \n",
    "                                                        random_state=42)\n",
    "y_train_lgbm = y_train_lgbm['pitch_type']\n",
    "y_valid_lgbm = y_valid_lgbm['pitch_type']\n",
    "\n",
    "lgb_train = lgb.Dataset(X_train_lgbm, y_train_lgbm)\n",
    "lgb_eval  = lgb.Dataset(X_valid_lgbm, y_valid_lgbm)"
   ]
  },
  {
   "cell_type": "markdown",
   "id": "c336c260",
   "metadata": {},
   "source": [
    "## Random search"
   ]
  },
  {
   "cell_type": "code",
   "execution_count": null,
   "id": "7d4e6f99",
   "metadata": {},
   "outputs": [],
   "source": [
    "rand_lr     = list(np.logspace(np.log10(0.005), np.log10(0.5), base=10, num=1000))\n",
    "rand_leaves = poisson(50)\n",
    "rand_depth  = randint(1,50)\n",
    "rand_esti   = poisson(400)\n",
    "rand_params = {'learning_rate': rand_lr,\n",
    "               'max_depth': rand_depth,\n",
    "              'num_leaves': rand_leaves,\n",
    "              'n_estimators': rand_esti}\n",
    "\n",
    "lgbm = lgb.LGBMClassifier(objective='multiclass', num_classes=len(y_training_1p['pitch_type'].unique()), metric='multi_logloss')\n",
    "n_iter_search = 20\n",
    "rand_search = RandomizedSearchCV(lgbm, \n",
    "                           param_distributions=rand_params,\n",
    "                           n_iter=n_iter_search,\n",
    "                           cv=5,\n",
    "                           return_train_score=True)#,\n",
    "                          #refit=True)\n"
   ]
  },
  {
   "cell_type": "code",
   "execution_count": null,
   "id": "9c7e7542",
   "metadata": {},
   "outputs": [],
   "source": [
    "start = time.time()\n",
    "#####################################################################\n",
    "\n",
    "rand_search.fit(X_train, y_train)\n",
    "RandomSearch_results = pd.DataFrame(rand_search.cv_results_)                 \n",
    "print(\"Random Search: \\tBest parameters: \", rand_search.best_params_, f\", Best scores: {rand_search.best_score_:.3f}\")\n",
    "#####################################################################\n",
    "end = time.time()\n",
    "print('Time taken: ', end-start, 'seconds')"
   ]
  },
  {
   "cell_type": "markdown",
   "id": "0ce03d73",
   "metadata": {},
   "source": [
    "## Final LGBM model"
   ]
  },
  {
   "cell_type": "code",
   "execution_count": null,
   "id": "3add634f",
   "metadata": {},
   "outputs": [],
   "source": [
    "start = time.time()\n",
    "#####################################################################\n",
    "\n",
    "params = {\n",
    "    'boosting_type': 'gbdt',\n",
    "    'objective': 'multiclass',\n",
    "    'num_classes': len(y_training_1p['pitch_type'].unique()),\n",
    "    'metric': 'multi_logloss',\n",
    "    'learning_rate': 0.23694398048588264,\n",
    "    'max_depth':     28,\n",
    "    #'n_estimators': 398,\n",
    "    'num_leaves': 54,\n",
    "    'verbose': -1\n",
    "}\n",
    "\n",
    "#model = lgb.LGBMClassifier(params,\n",
    "lgbm_final = lgb.train(params,\n",
    "                    lgb_train,\n",
    "                    num_boost_round=1000,\n",
    "                    valid_sets=lgb_eval,\n",
    "                    callbacks=[early_stopping(10)])\n",
    "\n",
    "#####################################################################\n",
    "end = time.time()\n",
    "print('Time taken: ', end-start, 'seconds')"
   ]
  },
  {
   "cell_type": "code",
   "execution_count": null,
   "id": "3f608703",
   "metadata": {},
   "outputs": [],
   "source": [
    "y_score = lgbm_final.predict(X_valid_lgbm, num_iteration=lgbm_final.best_iteration)  # Scores are floats in the range ]0,1[.\n",
    "\n",
    "# Calculate ROC curve and AUC for each class\n",
    "fpr = dict()\n",
    "tpr = dict()\n",
    "roc_auc = dict()\n",
    "n_classes = len(y_train_lgbm.unique())\n",
    "\n",
    "y = y_training_1p['pitch_type']\n",
    "\n",
    "for i in range(n_classes):\n",
    "    fpr[i], tpr[i], _ = roc_curve(y_valid_lgbm == y.unique()[i], y_score[:, i])\n",
    "    roc_auc[i] = auc(fpr[i], tpr[i])\n",
    "\n",
    "# Plot ROC curves for each class\n",
    "plt.figure(figsize=(8, 6))\n",
    "colors = ['blue', 'red', 'green', 'orange']  # Adjust the colors based on the number of classes\n",
    "\n",
    "for i in range(n_classes):\n",
    "    plt.plot(fpr[i], tpr[i], color=colors[i], label=f'Class {y.unique()[i]} (AUC = {roc_auc[i]:0.2f})')\n",
    "\n",
    "plt.plot([0, 1], [0, 1], color='black', linestyle='--')\n",
    "plt.xlabel('False Positive Rate')\n",
    "plt.ylabel('True Positive Rate')\n",
    "plt.title('ROC Curve for Multiclass Classification')\n",
    "plt.legend(loc=\"lower right\")\n",
    "plt.show()"
   ]
  },
  {
   "cell_type": "markdown",
   "id": "9ab338d7",
   "metadata": {},
   "source": [
    "## ---------------------------------------------------------------\n",
    "\n",
    "## 2 pitchers\n",
    "\n",
    "## ---------------------------------------------------------------"
   ]
  },
  {
   "cell_type": "code",
   "execution_count": null,
   "id": "8a3d6237",
   "metadata": {},
   "outputs": [],
   "source": [
    "two_pitcher = data[train['pitcher'].isin([593576, 656887])] ## Neeris hector"
   ]
  },
  {
   "cell_type": "code",
   "execution_count": null,
   "id": "10cb0737",
   "metadata": {},
   "outputs": [],
   "source": [
    "### All data to numbers\n",
    "\n",
    "#Truth\n",
    "pitch_cluster_truth     = ['pitch_type']\n",
    "\n",
    "#data_FI = data.dropna(axis=1)\n",
    "data_FI = two_pitcher.replace('<NA>', np.nan)\n",
    "data_FI = two_pitcher.fillna(0)\n",
    "data_FI = data_FI.apply(pd.to_numeric, errors='coerce').fillna(0).astype(int)\n",
    "print(len(data_FI))\n",
    "y_training_2p = data_FI[pitch_cluster_truth]\n",
    "#y_training_num = {value: index for index, value in enumerate(data_FI['pitch_type'].unique())}\n",
    "\n",
    "train_2p = data_FI#[pitch_cluster_variables] \n",
    "train_2p = train_2p.drop(['pitch_type', 'player_name', 'events', 'game_date'], axis=1)\n",
    "\n",
    "#Splitting training data\n",
    "X_train, X_valid, y_train, y_valid = train_test_split(train_2p, \n",
    "                                                        y_training_2p, \n",
    "                                                        test_size=0.20, \n",
    "                                                        random_state=42)\n",
    "y_train = y_train['pitch_type']\n",
    "y_valid = y_valid['pitch_type']"
   ]
  },
  {
   "cell_type": "code",
   "execution_count": null,
   "id": "2e4aea17",
   "metadata": {},
   "outputs": [],
   "source": [
    "print(y_training_2p['pitch_type'].unique())\n",
    "print(y_training_2p['pitch_type'].value_counts())"
   ]
  },
  {
   "cell_type": "code",
   "execution_count": null,
   "id": "d9513ee9",
   "metadata": {},
   "outputs": [],
   "source": [
    "y_training_2p['pitch_type'] = y_training_2p['pitch_type'].replace(y_training_2p['pitch_type'].unique(), [0,1,2,3,4])\n",
    "print(y_training_2p['pitch_type'].unique())\n",
    "print(y_training_2p['pitch_type'].value_counts())"
   ]
  },
  {
   "cell_type": "code",
   "execution_count": null,
   "id": "9ee49377",
   "metadata": {},
   "outputs": [],
   "source": [
    "print('This pitchers throws: [FF, FS, SI, CH, SL]' )"
   ]
  },
  {
   "cell_type": "markdown",
   "id": "b095fc07",
   "metadata": {},
   "source": [
    "## LGBM"
   ]
  },
  {
   "cell_type": "code",
   "execution_count": null,
   "id": "a98c3156",
   "metadata": {},
   "outputs": [],
   "source": [
    "start = time.time()\n",
    "#####################################################################\n",
    "\n",
    "lgbm = lgb.LGBMClassifier(objective='multiclass', num_classes=len(y_training_2p['pitch_type'].unique()), metric='multi_logloss')\n",
    "lgbm.fit(X_train, y_train)\n",
    "\n",
    "lgbm_feat_import = permutation_importance(lgbm, X_valid, y_valid, \n",
    "                                          n_repeats=2, \n",
    "                                          random_state=0)\n",
    "#####################################################################\n",
    "end = time.time()\n",
    "print('Time taken: ', end-start, 'seconds')"
   ]
  },
  {
   "cell_type": "code",
   "execution_count": null,
   "id": "a687e323",
   "metadata": {},
   "outputs": [],
   "source": [
    "print('Feature importances in order:')\n",
    "rating = lgbm_feat_import.importances_mean\n",
    "rating.sort()\n",
    "for i in range(len(rating)):\n",
    "    print(f'Feature: {train_2p.columns[lgbm_feat_import.importances_mean.argsort()][i]} with rating: {rating[::-1][i]}')"
   ]
  },
  {
   "cell_type": "code",
   "execution_count": null,
   "id": "12a8ea28",
   "metadata": {},
   "outputs": [],
   "source": [
    "# Creating new data from the best found features\n",
    "\n",
    "lgbm_feat_2p =['release_speed', 'fielder_4', 'fielder_3', 'fielder_2.1', 'pitcher.1', 'game_pk', 'release_extension', 'release_spin_rate']\n",
    "#Splitting training data\n",
    "X_train_lgbm, X_valid_lgbm, y_train_lgbm, y_valid_lgbm = train_test_split(train_2p[lgbm_feat_2p], \n",
    "                                                        y_training_2p, \n",
    "                                                        test_size=0.20, \n",
    "                                                        random_state=42)\n",
    "y_train_lgbm = y_train_lgbm['pitch_type']\n",
    "y_valid_lgbm = y_valid_lgbm['pitch_type']\n",
    "\n",
    "lgb_train = lgb.Dataset(X_train_lgbm, y_train_lgbm)\n",
    "lgb_eval  = lgb.Dataset(X_valid_lgbm, y_valid_lgbm)"
   ]
  },
  {
   "cell_type": "code",
   "execution_count": null,
   "id": "919668dc",
   "metadata": {},
   "outputs": [],
   "source": [
    "rand_lr     = list(np.logspace(np.log10(0.005), np.log10(0.5), base=10, num=1000))\n",
    "rand_leaves = poisson(50)\n",
    "rand_depth  = randint(1,50)\n",
    "rand_esti   = poisson(400)\n",
    "rand_params = {'learning_rate': rand_lr,\n",
    "               'max_depth': rand_depth,\n",
    "              'num_leaves': rand_leaves,\n",
    "              'n_estimators': rand_esti}\n",
    "\n",
    "lgbm = lgb.LGBMClassifier(objective='multiclass', num_classes=len(y_training_2p['pitch_type'].unique()), metric='multi_logloss')\n",
    "n_iter_search = 20\n",
    "rand_search = RandomizedSearchCV(lgbm, \n",
    "                           param_distributions=rand_params,\n",
    "                           n_iter=n_iter_search,\n",
    "                           cv=5,\n",
    "                           return_train_score=True)#,\n",
    "                          #refit=True)"
   ]
  },
  {
   "cell_type": "code",
   "execution_count": null,
   "id": "1e9a5e18",
   "metadata": {},
   "outputs": [],
   "source": [
    "start = time.time()\n",
    "#####################################################################\n",
    "\n",
    "rand_search.fit(X_train, y_train)\n",
    "RandomSearch_results = pd.DataFrame(rand_search.cv_results_)                 \n",
    "print(\"Random Search: \\tBest parameters: \", rand_search.best_params_, f\", Best scores: {rand_search.best_score_:.3f}\")\n",
    "#####################################################################\n",
    "end = time.time()\n",
    "print('Time taken: ', end-start, 'seconds')"
   ]
  },
  {
   "cell_type": "code",
   "execution_count": null,
   "id": "796476f8",
   "metadata": {},
   "outputs": [],
   "source": [
    "start = time.time()\n",
    "#####################################################################\n",
    "\n",
    "params = {\n",
    "    'boosting_type': 'gbdt',\n",
    "    'objective': 'multiclass',\n",
    "    'num_classes': len(y_training_2p['pitch_type'].unique()),\n",
    "    'metric': 'multi_logloss',\n",
    "    'learning_rate': 0.3271793009441616,\n",
    "    'max_depth':     34,\n",
    "    #'n_estimators': 398,\n",
    "    'num_leaves': 42,\n",
    "    'verbose': -1\n",
    "}\n",
    "\n",
    "#model = lgb.LGBMClassifier(params,\n",
    "lgbm_final = lgb.train(params,\n",
    "                    lgb_train,\n",
    "                    num_boost_round=1000,\n",
    "                    valid_sets=lgb_eval,\n",
    "                    callbacks=[early_stopping(10)])\n",
    "\n",
    "#####################################################################\n",
    "end = time.time()\n",
    "print('Time taken: ', end-start, 'seconds')"
   ]
  },
  {
   "cell_type": "code",
   "execution_count": null,
   "id": "17102ab6",
   "metadata": {},
   "outputs": [],
   "source": [
    "y_score = lgbm_final.predict(X_valid_lgbm, num_iteration=lgbm_final.best_iteration)  # Scores are floats in the range ]0,1[.\n",
    "\n",
    "# Calculate ROC curve and AUC for each class\n",
    "fpr = dict()\n",
    "tpr = dict()\n",
    "roc_auc = dict()\n",
    "n_classes = len(y_train_lgbm.unique())\n",
    "\n",
    "y = y_training_2p['pitch_type']\n",
    "\n",
    "\n",
    "for i in range(n_classes):\n",
    "    fpr[i], tpr[i], _ = roc_curve(y_valid_lgbm == y.unique()[i], y_score[:, i])\n",
    "    roc_auc[i] = auc(fpr[i], tpr[i])\n",
    "\n",
    "# Plot ROC curves for each class\n",
    "plt.figure(figsize=(8, 6))\n",
    "colors = ['blue', 'red', 'green', 'orange', 'black']  # Adjust the colors based on the number of classes\n",
    "\n",
    "for i in range(n_classes):\n",
    "    plt.plot(fpr[i], tpr[i], color=colors[i], label=f'Class {y.unique()[i]} (AUC = {roc_auc[i]:0.2f})')\n",
    "\n",
    "plt.plot([0, 1], [0, 1], color='black', linestyle='--')\n",
    "plt.xlabel('False Positive Rate')\n",
    "plt.ylabel('True Positive Rate')\n",
    "plt.title('ROC Curve for Multiclass Classification')\n",
    "plt.legend(loc=\"lower right\")\n",
    "plt.show()"
   ]
  },
  {
   "cell_type": "markdown",
   "id": "5c6cf5e3",
   "metadata": {},
   "source": [
    "## ---------------------------------------------------------------\n",
    "\n",
    "## ALL pitchers\n",
    "\n",
    "## ---------------------------------------------------------------"
   ]
  },
  {
   "cell_type": "code",
   "execution_count": null,
   "id": "d2867981",
   "metadata": {},
   "outputs": [],
   "source": []
  },
  {
   "cell_type": "code",
   "execution_count": null,
   "id": "451af95c",
   "metadata": {},
   "outputs": [],
   "source": []
  },
  {
   "cell_type": "code",
   "execution_count": null,
   "id": "a5f43d05",
   "metadata": {},
   "outputs": [],
   "source": []
  }
 ],
 "metadata": {
  "kernelspec": {
   "display_name": "Python 3 (ipykernel)",
   "language": "python",
   "name": "python3"
  },
  "language_info": {
   "codemirror_mode": {
    "name": "ipython",
    "version": 3
   },
   "file_extension": ".py",
   "mimetype": "text/x-python",
   "name": "python",
   "nbconvert_exporter": "python",
   "pygments_lexer": "ipython3",
   "version": "3.9.13"
  }
 },
 "nbformat": 4,
 "nbformat_minor": 5
}
