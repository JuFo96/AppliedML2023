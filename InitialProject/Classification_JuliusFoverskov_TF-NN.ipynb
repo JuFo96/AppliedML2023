{
 "cells": [
  {
   "cell_type": "code",
   "execution_count": 4,
   "id": "cecc0cb4",
   "metadata": {},
   "outputs": [],
   "source": [
    "import h5py\n",
    "import pandas\n",
    "import numpy as np\n",
    "\n",
    "def load_data(name):\n",
    "    with h5py.File(f'{name}.h5', 'r') as f:\n",
    "        filename = name.split('/')[1]\n",
    "        return pandas.DataFrame(f[filename][:], dtype=np.float64)\n",
    "\n",
    "train = load_data('data/train')\n",
    "test  = load_data('data/test')\n",
    "\n",
    "# Variable list from https://www.nbi.dk/~petersen/Teaching/ML2023/InitialProject/VariableList.html\n",
    "all_variables = ['actualInteractionsPerCrossing', 'averageInteractionsPerCrossing', 'correctedActualMu', 'correctedAverageMu', 'correctedScaledActualMu', 'correctedScaledAverageMu', 'NvtxReco', 'p_nTracks', 'p_pt_track', 'p_eta', 'p_phi', 'p_charge', 'p_qOverP', 'p_z0', 'p_d0', 'p_sigmad0', 'p_d0Sig', 'p_EptRatio', 'p_dPOverP', 'p_z0theta', 'p_etaCluster', 'p_phiCluster', 'p_eCluster', 'p_rawEtaCluster', 'p_rawPhiCluster', 'p_rawECluster', 'p_eClusterLr0', 'p_eClusterLr1', 'p_eClusterLr2', 'p_eClusterLr3', 'p_etaClusterLr1', 'p_etaClusterLr2', 'p_phiClusterLr2', 'p_eAccCluster', 'p_f0Cluster', 'p_etaCalo', 'p_phiCalo', 'p_eTileGap3Cluster', 'p_cellIndexCluster', 'p_phiModCalo', 'p_etaModCalo', 'p_dPhiTH3', 'p_R12', 'p_fTG3', 'p_weta2', 'p_Reta', 'p_Rphi', 'p_Eratio', 'p_f1', 'p_f3', 'p_Rhad', 'p_Rhad1', 'p_deltaEta1', 'p_deltaPhiRescaled2', 'p_TRTPID', 'p_TRTTrackOccupancy', 'p_numberOfInnermostPixelHits', 'p_numberOfPixelHits', 'p_numberOfSCTHits', 'p_numberOfTRTHits', 'p_numberOfTRTXenonHits', 'p_chi2', 'p_ndof', 'p_SharedMuonTrack', 'p_E7x7_Lr2', 'p_E7x7_Lr3', 'p_E_Lr0_HiG', 'p_E_Lr0_LowG', 'p_E_Lr0_MedG', 'p_E_Lr1_HiG', 'p_E_Lr1_LowG', 'p_E_Lr1_MedG', 'p_E_Lr2_HiG', 'p_E_Lr2_LowG', 'p_E_Lr2_MedG', 'p_E_Lr3_HiG', 'p_E_Lr3_LowG', 'p_E_Lr3_MedG', 'p_ambiguityType', 'p_asy1', 'p_author', 'p_barys1', 'p_core57cellsEnergyCorrection', 'p_deltaEta0', 'p_deltaEta2', 'p_deltaEta3', 'p_deltaPhi0', 'p_deltaPhi1', 'p_deltaPhi2', 'p_deltaPhi3', 'p_deltaPhiFromLastMeasurement', 'p_deltaPhiRescaled0', 'p_deltaPhiRescaled1', 'p_deltaPhiRescaled3', 'p_e1152', 'p_e132', 'p_e235', 'p_e255', 'p_e2ts1', 'p_ecore', 'p_emins1', 'p_etconeCorrBitset', 'p_ethad', 'p_ethad1', 'p_f1core', 'p_f3core', 'p_maxEcell_energy', 'p_maxEcell_gain', 'p_maxEcell_time', 'p_maxEcell_x', 'p_maxEcell_y', 'p_maxEcell_z', 'p_nCells_Lr0_HiG', 'p_nCells_Lr0_LowG', 'p_nCells_Lr0_MedG', 'p_nCells_Lr1_HiG', 'p_nCells_Lr1_LowG', 'p_nCells_Lr1_MedG', 'p_nCells_Lr2_HiG', 'p_nCells_Lr2_LowG', 'p_nCells_Lr2_MedG', 'p_nCells_Lr3_HiG', 'p_nCells_Lr3_LowG', 'p_nCells_Lr3_MedG', 'p_pos', 'p_pos7', 'p_poscs1', 'p_poscs2', 'p_ptconeCorrBitset', 'p_ptconecoreTrackPtrCorrection', 'p_r33over37allcalo', 'p_topoetconeCorrBitset', 'p_topoetconecoreConeEnergyCorrection', 'p_topoetconecoreConeSCEnergyCorrection', 'p_weta1', 'p_widths1', 'p_widths2', 'p_wtots1', 'p_e233', 'p_e237', 'p_e277', 'p_e2tsts1', 'p_ehad1', 'p_emaxs1', 'p_fracs1', 'p_DeltaE', 'p_E3x5_Lr0', 'p_E3x5_Lr1', 'p_E3x5_Lr2', 'p_E3x5_Lr3', 'p_E5x7_Lr0', 'p_E5x7_Lr1', 'p_E5x7_Lr2', 'p_E5x7_Lr3', 'p_E7x11_Lr0', 'p_E7x11_Lr1', 'p_E7x11_Lr2', 'p_E7x11_Lr3', 'p_E7x7_Lr0', 'p_E7x7_Lr1' ]\n",
    "subset_variables = ['p_e233', 'p_ehad1', 'p_E5x7_Lr2', 'p_f3core', 'p_deltaPhi0', 'p_f3', 'p_eAccCluster', 'p_dPOverP']\n",
    "subset_variables = ['p_sigmad0', 'p_deltaEta1', 'p_d0', ]\n",
    "\n",
    "X_train = train[all_variables][:130000]\n",
    "#X_train = train[subset_variables][:130000]\n",
    "y_train = train['Truth'][:130000]\n",
    "X_validate = train[all_variables][130000:]\n",
    "#X_validate = train[subset_variables][130000:]\n",
    "y_validate = train['Truth'][130000:]\n",
    "\n",
    "X_test = test[all_variables]\n",
    "\n",
    "with open('Classification_JuliusFoverskov_XGBoost_VariableList.txt','r') as f:\n",
    "    sorted_variables = [item.strip() for item in f]\n"
   ]
  },
  {
   "cell_type": "code",
   "execution_count": 2,
   "id": "8ce9ad29",
   "metadata": {},
   "outputs": [],
   "source": [
    "from sklearn.metrics import accuracy_score\n",
    "\n",
    "def plot_boundary_results(X, y, clf):\n",
    "    # sample the whole X space with a meshgrid of probabilities\n",
    "    # predicted by out trained classifier\n",
    "    xx, yy = np.meshgrid(np.linspace(X[:,0].min(), X[:,0].max(), 300),\n",
    "                         np.linspace(X[:,1].min(), X[:,1].max(), 300))\n",
    "    X_bkg = np.c_[xx.ravel(), yy.ravel()]\n",
    "    y_bkg = clf.predict_proba(X_bkg)[:,0].reshape(xx.shape)\n",
    "    y_pred = clf.predict(X)\n",
    "\n",
    "    # plot the classification results\n",
    "    fig, ax = plt.subplots(1, figsize=(8, 5))\n",
    "    ax.contourf(xx, yy, y_bkg, cmap='brg', alpha=0.2) # coloured by class\n",
    "    ax.contour(xx, yy, y_bkg, cmap='brg', alpha=0.2) # coloured by class\n",
    "    ax.scatter(X[:,0][y_pred!=y], X[:,1][y_pred!=y], s=100, c='pink')\n",
    "    ax.scatter(X[:,0][y==0], X[:,1][y==0], s=20, c='g')\n",
    "    ax.scatter(X[:,0][y==1], X[:,1][y==1], s=20, c='b')\n",
    "    ax.set_xlabel(\"$x_1$\")\n",
    "    ax.set_ylabel(\"$x_2$\")\n",
    "    plt.tight_layout()\n",
    "    print(f\"Train accuracy: {accuracy_score(y_pred, y)*100.0:.2f}%\")"
   ]
  },
  {
   "cell_type": "code",
   "execution_count": 46,
   "id": "87d76a8a",
   "metadata": {},
   "outputs": [
    {
     "name": "stdout",
     "output_type": "stream",
     "text": [
      "Epoch 1/7\n",
      "4063/4063 [==============================] - 6s 1ms/step - loss: 1.5781 - binary_crossentropy: 1.5780 - val_loss: 0.5666 - val_binary_crossentropy: 0.5666\n",
      "Epoch 2/7\n",
      "4063/4063 [==============================] - 5s 1ms/step - loss: 0.5653 - binary_crossentropy: 0.5653 - val_loss: 0.5685 - val_binary_crossentropy: 0.5684\n",
      "Epoch 3/7\n",
      "4063/4063 [==============================] - 5s 1ms/step - loss: 0.5692 - binary_crossentropy: 0.5692 - val_loss: 0.5667 - val_binary_crossentropy: 0.5667\n",
      "Epoch 4/7\n",
      "4063/4063 [==============================] - 5s 1ms/step - loss: 0.5656 - binary_crossentropy: 0.5655 - val_loss: 0.5667 - val_binary_crossentropy: 0.5666\n",
      "Epoch 5/7\n",
      "4063/4063 [==============================] - 5s 1ms/step - loss: 0.5654 - binary_crossentropy: 0.5654 - val_loss: 0.5663 - val_binary_crossentropy: 0.5662\n",
      "Epoch 6/7\n",
      "4063/4063 [==============================] - 5s 1ms/step - loss: 0.5648 - binary_crossentropy: 0.5648 - val_loss: 0.5667 - val_binary_crossentropy: 0.5667\n",
      "Epoch 7/7\n",
      "4063/4063 [==============================] - 5s 1ms/step - loss: 0.5648 - binary_crossentropy: 0.5648 - val_loss: 0.5663 - val_binary_crossentropy: 0.5663\n"
     ]
    }
   ],
   "source": [
    "import tensorflow as tf\n",
    "from tensorflow import keras\n",
    "from tensorflow.keras import layers\n",
    "from tensorflow.keras.models import Sequential\n",
    "from tensorflow.keras.layers import Dense, Flatten, BatchNormalization\n",
    "from tensorflow.keras.optimizers import SGD\n",
    "from tensorflow.keras.initializers import VarianceScaling\n",
    "from tensorflow.keras.losses import MeanSquaredError\n",
    "from kerastuner.tuners import RandomSearch\n",
    "\n",
    "learning_rate = 0.01\n",
    "optimizer = tf.keras.optimizers.Adam(learning_rate=learning_rate)\n",
    "\n",
    "\n",
    "model = Sequential([\n",
    "    Dense(15,activation='relu',name='input_layer'),\n",
    "    Dense(10,activation='relu',name='hidden_layer1'),\n",
    "    Dense(10,activation='relu',name='hidden_layer2'),\n",
    "    Dense(1, activation='sigmoid', name='output')])\n",
    "\n",
    "model.compile(optimizer=optimizer,\n",
    "              loss=tf.keras.losses.BinaryCrossentropy(),\n",
    "              metrics=[tf.keras.losses.BinaryCrossentropy()])\n",
    "\n",
    "history = model.fit(x = X_train[sorted_variables], y = y_train, validation_data=(X_validate[sorted_variables], y_validate), epochs = 7)  \n"
   ]
  },
  {
   "cell_type": "code",
   "execution_count": 47,
   "id": "161e6713",
   "metadata": {},
   "outputs": [
    {
     "name": "stdout",
     "output_type": "stream",
     "text": [
      "4063/4063 [==============================] - 3s 759us/step\n",
      "1016/1016 [==============================] - 1s 761us/step\n",
      "Train accuracy: 74.80%\n",
      "Validation accuracy: 74.64%\n"
     ]
    }
   ],
   "source": [
    "y_pred = model.predict(X_train[sorted_variables])\n",
    "y_validate_pred = model.predict(X_validate[sorted_variables])\n",
    "y_pred = np.where(y_pred > 0.5, 1, 0)\n",
    "y_validate_pred = np.where(y_validate_pred > 0.5, 1, 0)\n",
    "\n",
    "\n",
    "print(f\"Train accuracy: {accuracy_score(y_pred, y_train)*100.0:.2f}%\")\n",
    "print(f\"Validation accuracy: {accuracy_score(y_validate_pred, y_validate)*100.0:.2f}%\")"
   ]
  },
  {
   "cell_type": "code",
   "execution_count": 48,
   "id": "8ab6755d",
   "metadata": {},
   "outputs": [
    {
     "name": "stdout",
     "output_type": "stream",
     "text": [
      "5021/5021 [==============================] - 13s 3ms/step\n",
      "WARNING:tensorflow:Detecting that an object or model or tf.train.Checkpoint is being deleted with unrestored values. See the following logs for the specific values in question. To silence these warnings, use `status.expect_partial()`. See https://www.tensorflow.org/api_docs/python/tf/train/Checkpoint#restorefor details about the status object returned by the restore function.\n",
      "WARNING:tensorflow:Value in checkpoint could not be found in the restored object: (root).layer_with_weights-5.gamma\n",
      "WARNING:tensorflow:Value in checkpoint could not be found in the restored object: (root).layer_with_weights-5.beta\n",
      "WARNING:tensorflow:Value in checkpoint could not be found in the restored object: (root).layer_with_weights-5.moving_mean\n",
      "WARNING:tensorflow:Value in checkpoint could not be found in the restored object: (root).layer_with_weights-5.moving_variance\n",
      "WARNING:tensorflow:Value in checkpoint could not be found in the restored object: (root).optimizer.iter\n",
      "WARNING:tensorflow:Value in checkpoint could not be found in the restored object: (root).optimizer.decay\n",
      "WARNING:tensorflow:Value in checkpoint could not be found in the restored object: (root).optimizer.learning_rate\n",
      "WARNING:tensorflow:Value in checkpoint could not be found in the restored object: (root).optimizer.momentum\n",
      "WARNING:tensorflow:Detecting that an object or model or tf.train.Checkpoint is being deleted with unrestored values. See the following logs for the specific values in question. To silence these warnings, use `status.expect_partial()`. See https://www.tensorflow.org/api_docs/python/tf/train/Checkpoint#restorefor details about the status object returned by the restore function.\n",
      "WARNING:tensorflow:Value in checkpoint could not be found in the restored object: (root).layer_with_weights-1.gamma\n",
      "WARNING:tensorflow:Value in checkpoint could not be found in the restored object: (root).layer_with_weights-1.beta\n",
      "WARNING:tensorflow:Value in checkpoint could not be found in the restored object: (root).layer_with_weights-1.moving_mean\n",
      "WARNING:tensorflow:Value in checkpoint could not be found in the restored object: (root).layer_with_weights-1.moving_variance\n",
      "WARNING:tensorflow:Value in checkpoint could not be found in the restored object: (root).layer_with_weights-3.gamma\n",
      "WARNING:tensorflow:Value in checkpoint could not be found in the restored object: (root).layer_with_weights-3.beta\n",
      "WARNING:tensorflow:Value in checkpoint could not be found in the restored object: (root).layer_with_weights-3.moving_mean\n",
      "WARNING:tensorflow:Value in checkpoint could not be found in the restored object: (root).layer_with_weights-3.moving_variance\n",
      "WARNING:tensorflow:Value in checkpoint could not be found in the restored object: (root).layer_with_weights-4.kernel\n",
      "WARNING:tensorflow:Value in checkpoint could not be found in the restored object: (root).layer_with_weights-4.bias\n",
      "WARNING:tensorflow:Value in checkpoint could not be found in the restored object: (root).layer_with_weights-5.gamma\n",
      "WARNING:tensorflow:Value in checkpoint could not be found in the restored object: (root).layer_with_weights-5.beta\n",
      "WARNING:tensorflow:Value in checkpoint could not be found in the restored object: (root).layer_with_weights-5.moving_mean\n",
      "WARNING:tensorflow:Value in checkpoint could not be found in the restored object: (root).layer_with_weights-5.moving_variance\n",
      "WARNING:tensorflow:Value in checkpoint could not be found in the restored object: (root).optimizer.iter\n",
      "WARNING:tensorflow:Value in checkpoint could not be found in the restored object: (root).optimizer.decay\n",
      "WARNING:tensorflow:Value in checkpoint could not be found in the restored object: (root).optimizer.learning_rate\n",
      "WARNING:tensorflow:Value in checkpoint could not be found in the restored object: (root).optimizer.momentum\n"
     ]
    }
   ],
   "source": [
    "y_test_pred = model.predict(X_test[sorted_variables])"
   ]
  },
  {
   "cell_type": "code",
   "execution_count": 56,
   "id": "61c3605b",
   "metadata": {},
   "outputs": [],
   "source": [
    "# Write results to a file\n",
    "\n",
    "# Probabilities of particle being an electron\n",
    "with open('Classification_JuliusFoverskov_TF-NN.txt','w') as f:\n",
    "    # y_test_pred col 1 = electron probability\n",
    "    for index, prediction in zip(X_test.index, y_test_pred[:, 0]):\n",
    "        f.write(f\"{index}, {prediction}\\n\")\n",
    "\n",
    "# List of most important features from permutation importance for electron classification\n",
    "with open('Classification_JuliusFoverskov_TF-NN_VariableList.txt','w') as f:\n",
    "    f.write(\"\\n\".join(map(str, sorted_variables)))"
   ]
  },
  {
   "cell_type": "code",
   "execution_count": 55,
   "id": "1d677b41",
   "metadata": {},
   "outputs": [
    {
     "data": {
      "text/plain": [
       "array([0.7515697, 0.7515697, 0.7515697, ..., 0.7515697, 0.7515697,\n",
       "       0.7515697], dtype=float32)"
      ]
     },
     "execution_count": 55,
     "metadata": {},
     "output_type": "execute_result"
    }
   ],
   "source": []
  },
  {
   "cell_type": "code",
   "execution_count": null,
   "id": "cb4621b4",
   "metadata": {},
   "outputs": [],
   "source": []
  }
 ],
 "metadata": {
  "kernelspec": {
   "display_name": "Python 3 (ipykernel)",
   "language": "python",
   "name": "python3"
  },
  "language_info": {
   "codemirror_mode": {
    "name": "ipython",
    "version": 3
   },
   "file_extension": ".py",
   "mimetype": "text/x-python",
   "name": "python",
   "nbconvert_exporter": "python",
   "pygments_lexer": "ipython3",
   "version": "3.9.13"
  }
 },
 "nbformat": 4,
 "nbformat_minor": 5
}
