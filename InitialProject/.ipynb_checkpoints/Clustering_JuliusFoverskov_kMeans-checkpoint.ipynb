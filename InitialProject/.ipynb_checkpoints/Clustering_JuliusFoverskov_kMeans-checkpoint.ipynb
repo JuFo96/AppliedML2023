{
 "cells": [
  {
   "cell_type": "markdown",
   "id": "676e44a2",
   "metadata": {},
   "source": [
    "## Clustering"
   ]
  },
  {
   "cell_type": "code",
   "execution_count": 100,
   "id": "62f9d603",
   "metadata": {},
   "outputs": [],
   "source": [
    "import h5py\n",
    "import pandas\n",
    "import numpy as np\n",
    "import matplotlib.pyplot as plt\n",
    "\n",
    "from sklearn import cluster\n",
    "from sklearn import preprocessing\n",
    "\n",
    "def load_data(name):\n",
    "    with h5py.File(f'{name}.h5', 'r') as f:\n",
    "        filename = name.split('/')[1]\n",
    "        return pandas.DataFrame(f[filename][:], dtype=np.float64)\n",
    "\n",
    "train = load_data('data/train')\n",
    "test  = load_data('data/test')\n",
    "\n",
    "# Variable list from https://www.nbi.dk/~petersen/Teaching/ML2023/InitialProject/VariableList.html\n",
    "all_variables = ['actualInteractionsPerCrossing', 'averageInteractionsPerCrossing', 'correctedActualMu', 'correctedAverageMu', 'correctedScaledActualMu', 'correctedScaledAverageMu', 'NvtxReco', 'p_nTracks', 'p_pt_track', 'p_eta', 'p_phi', 'p_charge', 'p_qOverP', 'p_z0', 'p_d0', 'p_sigmad0', 'p_d0Sig', 'p_EptRatio', 'p_dPOverP', 'p_z0theta', 'p_etaCluster', 'p_phiCluster', 'p_eCluster', 'p_rawEtaCluster', 'p_rawPhiCluster', 'p_rawECluster', 'p_eClusterLr0', 'p_eClusterLr1', 'p_eClusterLr2', 'p_eClusterLr3', 'p_etaClusterLr1', 'p_etaClusterLr2', 'p_phiClusterLr2', 'p_eAccCluster', 'p_f0Cluster', 'p_etaCalo', 'p_phiCalo', 'p_eTileGap3Cluster', 'p_cellIndexCluster', 'p_phiModCalo', 'p_etaModCalo', 'p_dPhiTH3', 'p_R12', 'p_fTG3', 'p_weta2', 'p_Reta', 'p_Rphi', 'p_Eratio', 'p_f1', 'p_f3', 'p_Rhad', 'p_Rhad1', 'p_deltaEta1', 'p_deltaPhiRescaled2', 'p_TRTPID', 'p_TRTTrackOccupancy', 'p_numberOfInnermostPixelHits', 'p_numberOfPixelHits', 'p_numberOfSCTHits', 'p_numberOfTRTHits', 'p_numberOfTRTXenonHits', 'p_chi2', 'p_ndof', 'p_SharedMuonTrack', 'p_E7x7_Lr2', 'p_E7x7_Lr3', 'p_E_Lr0_HiG', 'p_E_Lr0_LowG', 'p_E_Lr0_MedG', 'p_E_Lr1_HiG', 'p_E_Lr1_LowG', 'p_E_Lr1_MedG', 'p_E_Lr2_HiG', 'p_E_Lr2_LowG', 'p_E_Lr2_MedG', 'p_E_Lr3_HiG', 'p_E_Lr3_LowG', 'p_E_Lr3_MedG', 'p_ambiguityType', 'p_asy1', 'p_author', 'p_barys1', 'p_core57cellsEnergyCorrection', 'p_deltaEta0', 'p_deltaEta2', 'p_deltaEta3', 'p_deltaPhi0', 'p_deltaPhi1', 'p_deltaPhi2', 'p_deltaPhi3', 'p_deltaPhiFromLastMeasurement', 'p_deltaPhiRescaled0', 'p_deltaPhiRescaled1', 'p_deltaPhiRescaled3', 'p_e1152', 'p_e132', 'p_e235', 'p_e255', 'p_e2ts1', 'p_ecore', 'p_emins1', 'p_etconeCorrBitset', 'p_ethad', 'p_ethad1', 'p_f1core', 'p_f3core', 'p_maxEcell_energy', 'p_maxEcell_gain', 'p_maxEcell_time', 'p_maxEcell_x', 'p_maxEcell_y', 'p_maxEcell_z', 'p_nCells_Lr0_HiG', 'p_nCells_Lr0_LowG', 'p_nCells_Lr0_MedG', 'p_nCells_Lr1_HiG', 'p_nCells_Lr1_LowG', 'p_nCells_Lr1_MedG', 'p_nCells_Lr2_HiG', 'p_nCells_Lr2_LowG', 'p_nCells_Lr2_MedG', 'p_nCells_Lr3_HiG', 'p_nCells_Lr3_LowG', 'p_nCells_Lr3_MedG', 'p_pos', 'p_pos7', 'p_poscs1', 'p_poscs2', 'p_ptconeCorrBitset', 'p_ptconecoreTrackPtrCorrection', 'p_r33over37allcalo', 'p_topoetconeCorrBitset', 'p_topoetconecoreConeEnergyCorrection', 'p_topoetconecoreConeSCEnergyCorrection', 'p_weta1', 'p_widths1', 'p_widths2', 'p_wtots1', 'p_e233', 'p_e237', 'p_e277', 'p_e2tsts1', 'p_ehad1', 'p_emaxs1', 'p_fracs1', 'p_DeltaE', 'p_E3x5_Lr0', 'p_E3x5_Lr1', 'p_E3x5_Lr2', 'p_E3x5_Lr3', 'p_E5x7_Lr0', 'p_E5x7_Lr1', 'p_E5x7_Lr2', 'p_E5x7_Lr3', 'p_E7x11_Lr0', 'p_E7x11_Lr1', 'p_E7x11_Lr2', 'p_E7x11_Lr3', 'p_E7x7_Lr0', 'p_E7x7_Lr1' ]\n",
    "subset_variables = ['p_e233', 'p_ehad1', 'p_E5x7_Lr2', 'p_f3core', 'p_deltaPhi0', 'p_f3', 'p_eAccCluster', 'p_dPOverP']\n",
    "\n",
    "\n",
    "X_train = train[all_variables][:130000]\n",
    "#X_train = train[subset_variables][:130000]\n",
    "y_train = train['Truth'][:130000]\n",
    "X_validate = train[all_variables][130000:]\n",
    "#X_validate = train[subset_variables][130000:]\n",
    "y_validate = train['Truth'][130000:]\n",
    "\n",
    "X_test = test[all_variables]\n",
    "#X_test = test[subset_variables]\n",
    "\n",
    "\n"
   ]
  },
  {
   "cell_type": "code",
   "execution_count": 101,
   "id": "e8fb7061",
   "metadata": {},
   "outputs": [
    {
     "name": "stderr",
     "output_type": "stream",
     "text": [
      "C:\\Users\\Juliu\\anaconda3\\lib\\site-packages\\numpy\\core\\fromnumeric.py:3430: FutureWarning: In a future version, DataFrame.mean(axis=None) will return a scalar mean over the entire DataFrame. To retain the old behavior, use 'frame.mean(axis=0)' or just 'frame.mean()'\n",
      "  return mean(axis=axis, dtype=dtype, out=out, **kwargs)\n"
     ]
    },
    {
     "data": {
      "text/html": [
       "<div>\n",
       "<style scoped>\n",
       "    .dataframe tbody tr th:only-of-type {\n",
       "        vertical-align: middle;\n",
       "    }\n",
       "\n",
       "    .dataframe tbody tr th {\n",
       "        vertical-align: top;\n",
       "    }\n",
       "\n",
       "    .dataframe thead th {\n",
       "        text-align: right;\n",
       "    }\n",
       "</style>\n",
       "<table border=\"1\" class=\"dataframe\">\n",
       "  <thead>\n",
       "    <tr style=\"text-align: right;\">\n",
       "      <th></th>\n",
       "      <th>actualInteractionsPerCrossing</th>\n",
       "      <th>averageInteractionsPerCrossing</th>\n",
       "      <th>correctedActualMu</th>\n",
       "      <th>correctedAverageMu</th>\n",
       "      <th>correctedScaledActualMu</th>\n",
       "      <th>correctedScaledAverageMu</th>\n",
       "      <th>NvtxReco</th>\n",
       "      <th>p_nTracks</th>\n",
       "      <th>p_pt_track</th>\n",
       "      <th>p_eta</th>\n",
       "      <th>...</th>\n",
       "      <th>p_E5x7_Lr0</th>\n",
       "      <th>p_E5x7_Lr1</th>\n",
       "      <th>p_E5x7_Lr2</th>\n",
       "      <th>p_E5x7_Lr3</th>\n",
       "      <th>p_E7x11_Lr0</th>\n",
       "      <th>p_E7x11_Lr1</th>\n",
       "      <th>p_E7x11_Lr2</th>\n",
       "      <th>p_E7x11_Lr3</th>\n",
       "      <th>p_E7x7_Lr0</th>\n",
       "      <th>p_E7x7_Lr1</th>\n",
       "    </tr>\n",
       "  </thead>\n",
       "  <tbody>\n",
       "    <tr>\n",
       "      <th>0</th>\n",
       "      <td>-0.824894</td>\n",
       "      <td>-0.824894</td>\n",
       "      <td>-0.824894</td>\n",
       "      <td>-0.824894</td>\n",
       "      <td>-0.824894</td>\n",
       "      <td>-0.824894</td>\n",
       "      <td>-0.442767</td>\n",
       "      <td>-0.105438</td>\n",
       "      <td>0.005362</td>\n",
       "      <td>0.924011</td>\n",
       "      <td>...</td>\n",
       "      <td>-0.577106</td>\n",
       "      <td>0.287492</td>\n",
       "      <td>-0.437326</td>\n",
       "      <td>-0.337561</td>\n",
       "      <td>-0.569695</td>\n",
       "      <td>0.214043</td>\n",
       "      <td>-0.512394</td>\n",
       "      <td>-0.342503</td>\n",
       "      <td>-0.569538</td>\n",
       "      <td>0.217549</td>\n",
       "    </tr>\n",
       "    <tr>\n",
       "      <th>1</th>\n",
       "      <td>-0.136614</td>\n",
       "      <td>-0.136614</td>\n",
       "      <td>-0.136614</td>\n",
       "      <td>-0.136614</td>\n",
       "      <td>-0.136614</td>\n",
       "      <td>-0.136614</td>\n",
       "      <td>0.340719</td>\n",
       "      <td>0.414218</td>\n",
       "      <td>0.002139</td>\n",
       "      <td>-0.801067</td>\n",
       "      <td>...</td>\n",
       "      <td>1.105101</td>\n",
       "      <td>-0.169741</td>\n",
       "      <td>-0.825523</td>\n",
       "      <td>-0.325154</td>\n",
       "      <td>1.117063</td>\n",
       "      <td>-0.168549</td>\n",
       "      <td>-0.804395</td>\n",
       "      <td>-0.343982</td>\n",
       "      <td>1.118957</td>\n",
       "      <td>-0.165384</td>\n",
       "    </tr>\n",
       "    <tr>\n",
       "      <th>2</th>\n",
       "      <td>-0.596232</td>\n",
       "      <td>-0.596232</td>\n",
       "      <td>-0.596232</td>\n",
       "      <td>-0.596232</td>\n",
       "      <td>-0.596232</td>\n",
       "      <td>-0.596232</td>\n",
       "      <td>-0.129373</td>\n",
       "      <td>-0.105438</td>\n",
       "      <td>-0.027397</td>\n",
       "      <td>-0.788923</td>\n",
       "      <td>...</td>\n",
       "      <td>0.255533</td>\n",
       "      <td>-1.091567</td>\n",
       "      <td>-1.300525</td>\n",
       "      <td>0.188876</td>\n",
       "      <td>0.295728</td>\n",
       "      <td>-1.095192</td>\n",
       "      <td>-1.296595</td>\n",
       "      <td>0.082015</td>\n",
       "      <td>0.296776</td>\n",
       "      <td>-1.092853</td>\n",
       "    </tr>\n",
       "    <tr>\n",
       "      <th>3</th>\n",
       "      <td>0.016337</td>\n",
       "      <td>0.016337</td>\n",
       "      <td>0.016337</td>\n",
       "      <td>0.016337</td>\n",
       "      <td>0.016337</td>\n",
       "      <td>0.016337</td>\n",
       "      <td>-0.599465</td>\n",
       "      <td>-0.625095</td>\n",
       "      <td>0.009535</td>\n",
       "      <td>-1.018284</td>\n",
       "      <td>...</td>\n",
       "      <td>-0.612360</td>\n",
       "      <td>-0.818394</td>\n",
       "      <td>0.297891</td>\n",
       "      <td>-0.240235</td>\n",
       "      <td>-0.613300</td>\n",
       "      <td>-0.867127</td>\n",
       "      <td>0.239421</td>\n",
       "      <td>-0.245090</td>\n",
       "      <td>-0.613189</td>\n",
       "      <td>-0.864585</td>\n",
       "    </tr>\n",
       "    <tr>\n",
       "      <th>4</th>\n",
       "      <td>1.698798</td>\n",
       "      <td>1.698798</td>\n",
       "      <td>1.698798</td>\n",
       "      <td>1.698798</td>\n",
       "      <td>1.698798</td>\n",
       "      <td>1.698798</td>\n",
       "      <td>1.907692</td>\n",
       "      <td>1.973188</td>\n",
       "      <td>-0.038371</td>\n",
       "      <td>1.042370</td>\n",
       "      <td>...</td>\n",
       "      <td>-0.612360</td>\n",
       "      <td>0.449175</td>\n",
       "      <td>-0.096703</td>\n",
       "      <td>-0.406508</td>\n",
       "      <td>-0.613300</td>\n",
       "      <td>0.407114</td>\n",
       "      <td>-0.067438</td>\n",
       "      <td>-0.440127</td>\n",
       "      <td>-0.613189</td>\n",
       "      <td>0.410792</td>\n",
       "    </tr>\n",
       "    <tr>\n",
       "      <th>...</th>\n",
       "      <td>...</td>\n",
       "      <td>...</td>\n",
       "      <td>...</td>\n",
       "      <td>...</td>\n",
       "      <td>...</td>\n",
       "      <td>...</td>\n",
       "      <td>...</td>\n",
       "      <td>...</td>\n",
       "      <td>...</td>\n",
       "      <td>...</td>\n",
       "      <td>...</td>\n",
       "      <td>...</td>\n",
       "      <td>...</td>\n",
       "      <td>...</td>\n",
       "      <td>...</td>\n",
       "      <td>...</td>\n",
       "      <td>...</td>\n",
       "      <td>...</td>\n",
       "      <td>...</td>\n",
       "      <td>...</td>\n",
       "      <td>...</td>\n",
       "    </tr>\n",
       "    <tr>\n",
       "      <th>129995</th>\n",
       "      <td>0.933278</td>\n",
       "      <td>0.933278</td>\n",
       "      <td>0.933278</td>\n",
       "      <td>0.933278</td>\n",
       "      <td>0.933278</td>\n",
       "      <td>0.933278</td>\n",
       "      <td>0.497416</td>\n",
       "      <td>0.933875</td>\n",
       "      <td>0.006172</td>\n",
       "      <td>0.934337</td>\n",
       "      <td>...</td>\n",
       "      <td>0.004679</td>\n",
       "      <td>2.128861</td>\n",
       "      <td>0.917472</td>\n",
       "      <td>2.341744</td>\n",
       "      <td>0.039304</td>\n",
       "      <td>2.474621</td>\n",
       "      <td>1.184020</td>\n",
       "      <td>2.446529</td>\n",
       "      <td>0.040088</td>\n",
       "      <td>2.454088</td>\n",
       "    </tr>\n",
       "    <tr>\n",
       "      <th>129996</th>\n",
       "      <td>-0.289565</td>\n",
       "      <td>-0.289565</td>\n",
       "      <td>-0.289565</td>\n",
       "      <td>-0.289565</td>\n",
       "      <td>-0.289565</td>\n",
       "      <td>-0.289565</td>\n",
       "      <td>0.654113</td>\n",
       "      <td>-0.625095</td>\n",
       "      <td>-0.012432</td>\n",
       "      <td>-0.846273</td>\n",
       "      <td>...</td>\n",
       "      <td>0.406989</td>\n",
       "      <td>-1.323161</td>\n",
       "      <td>-0.876486</td>\n",
       "      <td>-0.247363</td>\n",
       "      <td>0.351715</td>\n",
       "      <td>-1.286808</td>\n",
       "      <td>-0.875344</td>\n",
       "      <td>-0.232334</td>\n",
       "      <td>0.352821</td>\n",
       "      <td>-1.284640</td>\n",
       "    </tr>\n",
       "    <tr>\n",
       "      <th>129997</th>\n",
       "      <td>0.092812</td>\n",
       "      <td>0.092812</td>\n",
       "      <td>0.092812</td>\n",
       "      <td>0.092812</td>\n",
       "      <td>0.092812</td>\n",
       "      <td>0.092812</td>\n",
       "      <td>0.340719</td>\n",
       "      <td>-0.625095</td>\n",
       "      <td>-0.012879</td>\n",
       "      <td>-1.054253</td>\n",
       "      <td>...</td>\n",
       "      <td>-0.612360</td>\n",
       "      <td>0.687861</td>\n",
       "      <td>-0.414913</td>\n",
       "      <td>-0.345486</td>\n",
       "      <td>-0.613300</td>\n",
       "      <td>0.649060</td>\n",
       "      <td>-0.401273</td>\n",
       "      <td>-0.380716</td>\n",
       "      <td>-0.613189</td>\n",
       "      <td>0.652954</td>\n",
       "    </tr>\n",
       "    <tr>\n",
       "      <th>129998</th>\n",
       "      <td>0.475190</td>\n",
       "      <td>0.475190</td>\n",
       "      <td>0.475190</td>\n",
       "      <td>0.475190</td>\n",
       "      <td>0.475190</td>\n",
       "      <td>0.475190</td>\n",
       "      <td>-1.069556</td>\n",
       "      <td>-0.105438</td>\n",
       "      <td>-0.015878</td>\n",
       "      <td>-0.949265</td>\n",
       "      <td>...</td>\n",
       "      <td>-0.612360</td>\n",
       "      <td>0.194147</td>\n",
       "      <td>-0.754182</td>\n",
       "      <td>-0.417846</td>\n",
       "      <td>-0.546938</td>\n",
       "      <td>0.120392</td>\n",
       "      <td>-0.793002</td>\n",
       "      <td>-0.474194</td>\n",
       "      <td>-0.546758</td>\n",
       "      <td>0.127207</td>\n",
       "    </tr>\n",
       "    <tr>\n",
       "      <th>129999</th>\n",
       "      <td>-2.048501</td>\n",
       "      <td>-2.048501</td>\n",
       "      <td>-2.048501</td>\n",
       "      <td>-2.048501</td>\n",
       "      <td>-2.048501</td>\n",
       "      <td>-2.048501</td>\n",
       "      <td>-1.696346</td>\n",
       "      <td>-1.144751</td>\n",
       "      <td>0.015301</td>\n",
       "      <td>-0.985541</td>\n",
       "      <td>...</td>\n",
       "      <td>-0.612360</td>\n",
       "      <td>-0.325788</td>\n",
       "      <td>0.781981</td>\n",
       "      <td>-0.302204</td>\n",
       "      <td>-0.613300</td>\n",
       "      <td>-0.355289</td>\n",
       "      <td>0.658897</td>\n",
       "      <td>-0.328486</td>\n",
       "      <td>-0.613189</td>\n",
       "      <td>-0.352291</td>\n",
       "    </tr>\n",
       "  </tbody>\n",
       "</table>\n",
       "<p>130000 rows × 160 columns</p>\n",
       "</div>"
      ],
      "text/plain": [
       "        actualInteractionsPerCrossing  averageInteractionsPerCrossing  \\\n",
       "0                           -0.824894                       -0.824894   \n",
       "1                           -0.136614                       -0.136614   \n",
       "2                           -0.596232                       -0.596232   \n",
       "3                            0.016337                        0.016337   \n",
       "4                            1.698798                        1.698798   \n",
       "...                               ...                             ...   \n",
       "129995                       0.933278                        0.933278   \n",
       "129996                      -0.289565                       -0.289565   \n",
       "129997                       0.092812                        0.092812   \n",
       "129998                       0.475190                        0.475190   \n",
       "129999                      -2.048501                       -2.048501   \n",
       "\n",
       "        correctedActualMu  correctedAverageMu  correctedScaledActualMu  \\\n",
       "0               -0.824894           -0.824894                -0.824894   \n",
       "1               -0.136614           -0.136614                -0.136614   \n",
       "2               -0.596232           -0.596232                -0.596232   \n",
       "3                0.016337            0.016337                 0.016337   \n",
       "4                1.698798            1.698798                 1.698798   \n",
       "...                   ...                 ...                      ...   \n",
       "129995           0.933278            0.933278                 0.933278   \n",
       "129996          -0.289565           -0.289565                -0.289565   \n",
       "129997           0.092812            0.092812                 0.092812   \n",
       "129998           0.475190            0.475190                 0.475190   \n",
       "129999          -2.048501           -2.048501                -2.048501   \n",
       "\n",
       "        correctedScaledAverageMu  NvtxReco  p_nTracks  p_pt_track     p_eta  \\\n",
       "0                      -0.824894 -0.442767  -0.105438    0.005362  0.924011   \n",
       "1                      -0.136614  0.340719   0.414218    0.002139 -0.801067   \n",
       "2                      -0.596232 -0.129373  -0.105438   -0.027397 -0.788923   \n",
       "3                       0.016337 -0.599465  -0.625095    0.009535 -1.018284   \n",
       "4                       1.698798  1.907692   1.973188   -0.038371  1.042370   \n",
       "...                          ...       ...        ...         ...       ...   \n",
       "129995                  0.933278  0.497416   0.933875    0.006172  0.934337   \n",
       "129996                 -0.289565  0.654113  -0.625095   -0.012432 -0.846273   \n",
       "129997                  0.092812  0.340719  -0.625095   -0.012879 -1.054253   \n",
       "129998                  0.475190 -1.069556  -0.105438   -0.015878 -0.949265   \n",
       "129999                 -2.048501 -1.696346  -1.144751    0.015301 -0.985541   \n",
       "\n",
       "        ...  p_E5x7_Lr0  p_E5x7_Lr1  p_E5x7_Lr2  p_E5x7_Lr3  p_E7x11_Lr0  \\\n",
       "0       ...   -0.577106    0.287492   -0.437326   -0.337561    -0.569695   \n",
       "1       ...    1.105101   -0.169741   -0.825523   -0.325154     1.117063   \n",
       "2       ...    0.255533   -1.091567   -1.300525    0.188876     0.295728   \n",
       "3       ...   -0.612360   -0.818394    0.297891   -0.240235    -0.613300   \n",
       "4       ...   -0.612360    0.449175   -0.096703   -0.406508    -0.613300   \n",
       "...     ...         ...         ...         ...         ...          ...   \n",
       "129995  ...    0.004679    2.128861    0.917472    2.341744     0.039304   \n",
       "129996  ...    0.406989   -1.323161   -0.876486   -0.247363     0.351715   \n",
       "129997  ...   -0.612360    0.687861   -0.414913   -0.345486    -0.613300   \n",
       "129998  ...   -0.612360    0.194147   -0.754182   -0.417846    -0.546938   \n",
       "129999  ...   -0.612360   -0.325788    0.781981   -0.302204    -0.613300   \n",
       "\n",
       "        p_E7x11_Lr1  p_E7x11_Lr2  p_E7x11_Lr3  p_E7x7_Lr0  p_E7x7_Lr1  \n",
       "0          0.214043    -0.512394    -0.342503   -0.569538    0.217549  \n",
       "1         -0.168549    -0.804395    -0.343982    1.118957   -0.165384  \n",
       "2         -1.095192    -1.296595     0.082015    0.296776   -1.092853  \n",
       "3         -0.867127     0.239421    -0.245090   -0.613189   -0.864585  \n",
       "4          0.407114    -0.067438    -0.440127   -0.613189    0.410792  \n",
       "...             ...          ...          ...         ...         ...  \n",
       "129995     2.474621     1.184020     2.446529    0.040088    2.454088  \n",
       "129996    -1.286808    -0.875344    -0.232334    0.352821   -1.284640  \n",
       "129997     0.649060    -0.401273    -0.380716   -0.613189    0.652954  \n",
       "129998     0.120392    -0.793002    -0.474194   -0.546758    0.127207  \n",
       "129999    -0.355289     0.658897    -0.328486   -0.613189   -0.352291  \n",
       "\n",
       "[130000 rows x 160 columns]"
      ]
     },
     "execution_count": 101,
     "metadata": {},
     "output_type": "execute_result"
    }
   ],
   "source": [
    "\n",
    "(X_train - np.mean(X_train)) / np.std(X_train)"
   ]
  },
  {
   "cell_type": "code",
   "execution_count": 102,
   "id": "9042c527",
   "metadata": {},
   "outputs": [],
   "source": [
    "loss_list = []\n",
    "with open('Classification_JuliusFoverskov_XGBoost_VariableList.txt','r') as f:\n",
    "    sorted_variables = [item.strip() for item in f]\n",
    "\n",
    "# Only pick 5 most important features for clustering, importances optained from permutation importance\n",
    "sorted_variables = sorted_variables[:5]\n",
    "\n",
    "\n",
    "for i in range(3, 51):\n",
    "    cluster_model = cluster.KMeans(n_clusters = i, random_state = 0).fit(X_train[sorted_variables])\n",
    "    loss_list.append(cluster_model.inertia_)\n",
    "    \n",
    "  "
   ]
  },
  {
   "cell_type": "markdown",
   "id": "5adc7f30",
   "metadata": {},
   "source": [
    "# Histogram of distinct clusters"
   ]
  },
  {
   "cell_type": "code",
   "execution_count": 189,
   "id": "bb1e894f",
   "metadata": {},
   "outputs": [
    {
     "data": {
      "text/plain": [
       "0.9889636541322494"
      ]
     },
     "execution_count": 189,
     "metadata": {},
     "output_type": "execute_result"
    },
    {
     "data": {
      "image/png": "[encoded data removed]",
      "text/plain": [
       "<Figure size 640x480 with 1 Axes>"
      ]
     },
     "metadata": {},
     "output_type": "display_data"
    }
   ],
   "source": [
    "plt.hist(cluster_model.labels_, bins = 5)\n",
    "plt.grid()\n",
    "\n",
    "unique, counts = np.unique(cluster_model.labels_, return_counts=True)\n",
    "\n",
    "counts[0]  / np.sum(counts)"
   ]
  },
  {
   "cell_type": "code",
   "execution_count": 108,
   "id": "3d020ca9",
   "metadata": {},
   "outputs": [
    {
     "data": {
      "text/plain": [
       "array([0, 0, 0, ..., 0, 0, 0])"
      ]
     },
     "execution_count": 108,
     "metadata": {},
     "output_type": "execute_result"
    }
   ],
   "source": [
    "cluster_model.labels_"
   ]
  },
  {
   "cell_type": "code",
   "execution_count": 107,
   "id": "f0dab45c",
   "metadata": {},
   "outputs": [
    {
     "data": {
      "text/plain": [
       "<matplotlib.collections.PathCollection at 0x281ad349b80>"
      ]
     },
     "execution_count": 107,
     "metadata": {},
     "output_type": "execute_result"
    },
    {
     "data": {
      "image/png": "[encoded data removed]",
      "text/plain": [
       "<Figure size 640x480 with 1 Axes>"
      ]
     },
     "metadata": {},
     "output_type": "display_data"
    }
   ],
   "source": [
    "plt.scatter(X_train[\"p_Rhad\"], X_train[\"p_phiCluster\"])"
   ]
  },
  {
   "cell_type": "markdown",
   "id": "93eb85df",
   "metadata": {},
   "source": [
    "# Elbow plot\n",
    "\n",
    "Inertia as a function of clusters, inertia is a of measure squared distance for each point in a cluster to their particular center.  "
   ]
  },
  {
   "cell_type": "code",
   "execution_count": 191,
   "id": "90ff39f2",
   "metadata": {},
   "outputs": [
    {
     "data": {
      "text/plain": [
       "[<matplotlib.lines.Line2D at 0x281abb88760>]"
      ]
     },
     "execution_count": 191,
     "metadata": {},
     "output_type": "execute_result"
    },
    {
     "data": {
      "image/png": "[encoded data removed]",
      "text/plain": [
       "<Figure size 640x480 with 1 Axes>"
      ]
     },
     "metadata": {},
     "output_type": "display_data"
    }
   ],
   "source": [
    "plt.plot(loss_list, '-bo')"
   ]
  },
  {
   "cell_type": "markdown",
   "id": "a7dc8752",
   "metadata": {},
   "source": [
    "# kMeans on test data"
   ]
  },
  {
   "cell_type": "code",
   "execution_count": 183,
   "id": "be0fdb00",
   "metadata": {},
   "outputs": [],
   "source": [
    "cluster_model = cluster.KMeans(n_clusters = 5, random_state = 0).fit(X_test[sorted_variables])\n",
    "preds = cluster_model.predict(X_test[sorted_variables])"
   ]
  },
  {
   "cell_type": "markdown",
   "id": "872dda29",
   "metadata": {},
   "source": [
    "# Save results in a file"
   ]
  },
  {
   "cell_type": "code",
   "execution_count": 193,
   "id": "b564efb0",
   "metadata": {},
   "outputs": [],
   "source": [
    "# Write results to a file\n",
    "\n",
    "# Probabilities of particle being an electron\n",
    "with open('Clustering_JuliusFoverskov_kMeans.txt','w') as f:\n",
    "    # y_test_pred col 1 = electron probability\n",
    "    for index, prediction in zip(X_test.index, preds):\n",
    "        f.write(f\"{index}, {prediction}\\n\")\n",
    "\n",
    "# List of most important features from permutation importance for electron classification\n",
    "with open('Clustering_JuliusFoverskov_kMeans_VariableList.txt','w') as f:\n",
    "    f.write(\"\\n\".join(map(str, sorted_variables)))"
   ]
  },
  {
   "cell_type": "markdown",
   "id": "a2c4f001",
   "metadata": {},
   "source": [
    "# For fun"
   ]
  },
  {
   "cell_type": "code",
   "execution_count": 158,
   "id": "81106c6f",
   "metadata": {},
   "outputs": [],
   "source": [
    "analysis = pd.DataFrame()\n",
    "\n",
    "analysis['truth'] = y_train"
   ]
  },
  {
   "cell_type": "code",
   "execution_count": 159,
   "id": "c16671d7",
   "metadata": {},
   "outputs": [],
   "source": [
    "analysis['pred'] = cluster_model.labels_\n",
    "analysis['pred'] = analysis['pred'].apply(lambda x: int(x / x) if x != 0 else x)\n",
    "analysis['truth'] = analysis['truth'].apply(lambda x: int(x))"
   ]
  },
  {
   "cell_type": "code",
   "execution_count": 160,
   "id": "c6cb7efc",
   "metadata": {},
   "outputs": [
    {
     "data": {
      "text/html": [
       "<div>\n",
       "<style scoped>\n",
       "    .dataframe tbody tr th:only-of-type {\n",
       "        vertical-align: middle;\n",
       "    }\n",
       "\n",
       "    .dataframe tbody tr th {\n",
       "        vertical-align: top;\n",
       "    }\n",
       "\n",
       "    .dataframe thead th {\n",
       "        text-align: right;\n",
       "    }\n",
       "</style>\n",
       "<table border=\"1\" class=\"dataframe\">\n",
       "  <thead>\n",
       "    <tr style=\"text-align: right;\">\n",
       "      <th></th>\n",
       "      <th>truth</th>\n",
       "      <th>pred</th>\n",
       "    </tr>\n",
       "  </thead>\n",
       "  <tbody>\n",
       "    <tr>\n",
       "      <th>0</th>\n",
       "      <td>1</td>\n",
       "      <td>0</td>\n",
       "    </tr>\n",
       "    <tr>\n",
       "      <th>1</th>\n",
       "      <td>0</td>\n",
       "      <td>0</td>\n",
       "    </tr>\n",
       "    <tr>\n",
       "      <th>2</th>\n",
       "      <td>0</td>\n",
       "      <td>0</td>\n",
       "    </tr>\n",
       "    <tr>\n",
       "      <th>3</th>\n",
       "      <td>1</td>\n",
       "      <td>0</td>\n",
       "    </tr>\n",
       "    <tr>\n",
       "      <th>4</th>\n",
       "      <td>1</td>\n",
       "      <td>0</td>\n",
       "    </tr>\n",
       "    <tr>\n",
       "      <th>...</th>\n",
       "      <td>...</td>\n",
       "      <td>...</td>\n",
       "    </tr>\n",
       "    <tr>\n",
       "      <th>129995</th>\n",
       "      <td>0</td>\n",
       "      <td>1</td>\n",
       "    </tr>\n",
       "    <tr>\n",
       "      <th>129996</th>\n",
       "      <td>1</td>\n",
       "      <td>0</td>\n",
       "    </tr>\n",
       "    <tr>\n",
       "      <th>129997</th>\n",
       "      <td>1</td>\n",
       "      <td>0</td>\n",
       "    </tr>\n",
       "    <tr>\n",
       "      <th>129998</th>\n",
       "      <td>1</td>\n",
       "      <td>0</td>\n",
       "    </tr>\n",
       "    <tr>\n",
       "      <th>129999</th>\n",
       "      <td>1</td>\n",
       "      <td>0</td>\n",
       "    </tr>\n",
       "  </tbody>\n",
       "</table>\n",
       "<p>130000 rows × 2 columns</p>\n",
       "</div>"
      ],
      "text/plain": [
       "        truth  pred\n",
       "0           1     0\n",
       "1           0     0\n",
       "2           0     0\n",
       "3           1     0\n",
       "4           1     0\n",
       "...       ...   ...\n",
       "129995      0     1\n",
       "129996      1     0\n",
       "129997      1     0\n",
       "129998      1     0\n",
       "129999      1     0\n",
       "\n",
       "[130000 rows x 2 columns]"
      ]
     },
     "execution_count": 160,
     "metadata": {},
     "output_type": "execute_result"
    }
   ],
   "source": [
    "analysis"
   ]
  },
  {
   "cell_type": "code",
   "execution_count": 190,
   "id": "bdea390b",
   "metadata": {},
   "outputs": [
    {
     "name": "stdout",
     "output_type": "stream",
     "text": [
      "[[ 7128. 25635.]\n",
      " [82696. 14541.]]\n"
     ]
    }
   ],
   "source": [
    "# Compute the confusion matrix\n",
    "confusion_matrix = np.zeros((2, 2))\n",
    "for true, pred in zip(analysis['truth'], analysis['pred']):\n",
    "    confusion_matrix[true][pred] += 1\n",
    "\n",
    "# Print the confusion matrix\n",
    "print(confusion_matrix)"
   ]
  },
  {
   "cell_type": "code",
   "execution_count": 165,
   "id": "e949e213",
   "metadata": {},
   "outputs": [
    {
     "ename": "ValueError",
     "evalue": "The truth value of a Series is ambiguous. Use a.empty, a.bool(), a.item(), a.any() or a.all().",
     "output_type": "error",
     "traceback": [
      "\u001b[1;31m---------------------------------------------------------------------------\u001b[0m",
      "\u001b[1;31mValueError\u001b[0m                                Traceback (most recent call last)",
      "\u001b[1;32m~\\AppData\\Local\\Temp\\ipykernel_13208\\376309839.py\u001b[0m in \u001b[0;36m<module>\u001b[1;34m\u001b[0m\n\u001b[0;32m      1\u001b[0m \u001b[0mplt\u001b[0m\u001b[1;33m.\u001b[0m\u001b[0mimshow\u001b[0m\u001b[1;33m(\u001b[0m\u001b[0mconfusion_matrix\u001b[0m\u001b[1;33m)\u001b[0m\u001b[1;33m\u001b[0m\u001b[1;33m\u001b[0m\u001b[0m\n\u001b[0;32m      2\u001b[0m \u001b[1;33m\u001b[0m\u001b[0m\n\u001b[1;32m----> 3\u001b[1;33m \u001b[0mnp\u001b[0m\u001b[1;33m.\u001b[0m\u001b[0margwhere\u001b[0m\u001b[1;33m(\u001b[0m\u001b[0manalysis\u001b[0m\u001b[1;33m[\u001b[0m\u001b[1;34m\"truth\"\u001b[0m\u001b[1;33m]\u001b[0m \u001b[1;33m==\u001b[0m \u001b[1;36m0\u001b[0m \u001b[1;33m&\u001b[0m \u001b[0manalysis\u001b[0m\u001b[1;33m[\u001b[0m\u001b[1;34m\"pred\"\u001b[0m\u001b[1;33m]\u001b[0m \u001b[1;33m==\u001b[0m \u001b[1;36m0\u001b[0m\u001b[1;33m)\u001b[0m\u001b[1;33m\u001b[0m\u001b[1;33m\u001b[0m\u001b[0m\n\u001b[0m",
      "\u001b[1;32m~\\anaconda3\\lib\\site-packages\\pandas\\core\\generic.py\u001b[0m in \u001b[0;36m__nonzero__\u001b[1;34m(self)\u001b[0m\n\u001b[0;32m   1525\u001b[0m     \u001b[1;33m@\u001b[0m\u001b[0mfinal\u001b[0m\u001b[1;33m\u001b[0m\u001b[1;33m\u001b[0m\u001b[0m\n\u001b[0;32m   1526\u001b[0m     \u001b[1;32mdef\u001b[0m \u001b[0m__nonzero__\u001b[0m\u001b[1;33m(\u001b[0m\u001b[0mself\u001b[0m\u001b[1;33m)\u001b[0m\u001b[1;33m:\u001b[0m\u001b[1;33m\u001b[0m\u001b[1;33m\u001b[0m\u001b[0m\n\u001b[1;32m-> 1527\u001b[1;33m         raise ValueError(\n\u001b[0m\u001b[0;32m   1528\u001b[0m             \u001b[1;34mf\"The truth value of a {type(self).__name__} is ambiguous. \"\u001b[0m\u001b[1;33m\u001b[0m\u001b[1;33m\u001b[0m\u001b[0m\n\u001b[0;32m   1529\u001b[0m             \u001b[1;34m\"Use a.empty, a.bool(), a.item(), a.any() or a.all().\"\u001b[0m\u001b[1;33m\u001b[0m\u001b[1;33m\u001b[0m\u001b[0m\n",
      "\u001b[1;31mValueError\u001b[0m: The truth value of a Series is ambiguous. Use a.empty, a.bool(), a.item(), a.any() or a.all()."
     ]
    },
    {
     "data": {
      "image/png": "[encoded data removed]",
      "text/plain": [
       "<Figure size 640x480 with 1 Axes>"
      ]
     },
     "metadata": {},
     "output_type": "display_data"
    }
   ],
   "source": [
    "plt.imshow(confusion_matrix)\n",
    "\n",
    "np.argwhere(analysis[\"truth\"] == 0 & analysis[\"pred\"] == 0)"
   ]
  },
  {
   "cell_type": "code",
   "execution_count": null,
   "id": "9b964c97",
   "metadata": {},
   "outputs": [],
   "source": []
  }
 ],
 "metadata": {
  "kernelspec": {
   "display_name": "Python 3 (ipykernel)",
   "language": "python",
   "name": "python3"
  },
  "language_info": {
   "codemirror_mode": {
    "name": "ipython",
    "version": 3
   },
   "file_extension": ".py",
   "mimetype": "text/x-python",
   "name": "python",
   "nbconvert_exporter": "python",
   "pygments_lexer": "ipython3",
   "version": "3.9.13"
  }
 },
 "nbformat": 4,
 "nbformat_minor": 5
}
