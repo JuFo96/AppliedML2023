{
 "cells": [
  {
   "cell_type": "code",
   "execution_count": 1,
   "id": "7470bda3",
   "metadata": {},
   "outputs": [],
   "source": [
    "import numpy as np\n",
    "import matplotlib.pyplot as plt\n",
    "import pandas as pd\n",
    "import h5py\n",
    "import tensorflow as tf\n",
    "from tensorflow.keras.layers import Flatten, Dense, Dropout, BatchNormalization\n",
    "from tensorflow.keras.optimizers import Adam, SGD\n",
    "from sklearn import preprocessing "
   ]
  },
  {
   "cell_type": "markdown",
   "id": "44c32f8e",
   "metadata": {},
   "source": [
    "## NN based approach for electron energy regression\n",
    "\n",
    "A neural network is made with X structure from the keras framework\n",
    "\n",
    "What to implement \n",
    "* Cross-Validation\n",
    "* Hyperparameter optimisation\n",
    "\n",
    "# Data imports"
   ]
  },
  {
   "cell_type": "code",
   "execution_count": 2,
   "id": "98b57508",
   "metadata": {},
   "outputs": [],
   "source": [
    "def load_data(name):\n",
    "    with h5py.File(f'{name}.h5', 'r') as f:\n",
    "        filename = name.split('/')[1]\n",
    "        return pd.DataFrame(f[filename][:], dtype=np.float64)\n",
    "\n",
    "train = load_data('data/train')\n",
    "test  = load_data('data/test')\n",
    "\n",
    "# Select only true electrons for energy regression\n",
    "train_mask = train['Truth'][:130000] == 1\n",
    "validate_mask = train['Truth'][130000:] == 1\n",
    "\n",
    "#scaler_train = preprocessing.StandardScaler().fit_transform(train)\n",
    "#scaler_test = preprocessing.StandardScaler().fit_transform(test)\n",
    "#train = pd.DataFrame(scaler_train, columns = train.columns)\n",
    "#test = pd.DataFrame(scaler_test, columns = test.columns)\n",
    "\n",
    "# Variable list from https://www.nbi.dk/~petersen/Teaching/ML2023/InitialProject/VariableList.html\n",
    "all_variables = ['actualInteractionsPerCrossing', 'averageInteractionsPerCrossing', 'correctedActualMu', 'correctedAverageMu', 'correctedScaledActualMu', 'correctedScaledAverageMu', 'NvtxReco', 'p_nTracks', 'p_pt_track', 'p_eta', 'p_phi', 'p_charge', 'p_qOverP', 'p_z0', 'p_d0', 'p_sigmad0', 'p_d0Sig', 'p_EptRatio', 'p_dPOverP', 'p_z0theta', 'p_etaCluster', 'p_phiCluster', 'p_eCluster', 'p_rawEtaCluster', 'p_rawPhiCluster', 'p_rawECluster', 'p_eClusterLr0', 'p_eClusterLr1', 'p_eClusterLr2', 'p_eClusterLr3', 'p_etaClusterLr1', 'p_etaClusterLr2', 'p_phiClusterLr2', 'p_eAccCluster', 'p_f0Cluster', 'p_etaCalo', 'p_phiCalo', 'p_eTileGap3Cluster', 'p_cellIndexCluster', 'p_phiModCalo', 'p_etaModCalo', 'p_dPhiTH3', 'p_R12', 'p_fTG3', 'p_weta2', 'p_Reta', 'p_Rphi', 'p_Eratio', 'p_f1', 'p_f3', 'p_Rhad', 'p_Rhad1', 'p_deltaEta1', 'p_deltaPhiRescaled2', 'p_TRTPID', 'p_TRTTrackOccupancy', 'p_numberOfInnermostPixelHits', 'p_numberOfPixelHits', 'p_numberOfSCTHits', 'p_numberOfTRTHits', 'p_numberOfTRTXenonHits', 'p_chi2', 'p_ndof', 'p_SharedMuonTrack', 'p_E7x7_Lr2', 'p_E7x7_Lr3', 'p_E_Lr0_HiG', 'p_E_Lr0_LowG', 'p_E_Lr0_MedG', 'p_E_Lr1_HiG', 'p_E_Lr1_LowG', 'p_E_Lr1_MedG', 'p_E_Lr2_HiG', 'p_E_Lr2_LowG', 'p_E_Lr2_MedG', 'p_E_Lr3_HiG', 'p_E_Lr3_LowG', 'p_E_Lr3_MedG', 'p_ambiguityType', 'p_asy1', 'p_author', 'p_barys1', 'p_core57cellsEnergyCorrection', 'p_deltaEta0', 'p_deltaEta2', 'p_deltaEta3', 'p_deltaPhi0', 'p_deltaPhi1', 'p_deltaPhi2', 'p_deltaPhi3', 'p_deltaPhiFromLastMeasurement', 'p_deltaPhiRescaled0', 'p_deltaPhiRescaled1', 'p_deltaPhiRescaled3', 'p_e1152', 'p_e132', 'p_e235', 'p_e255', 'p_e2ts1', 'p_ecore', 'p_emins1', 'p_etconeCorrBitset', 'p_ethad', 'p_ethad1', 'p_f1core', 'p_f3core', 'p_maxEcell_energy', 'p_maxEcell_gain', 'p_maxEcell_time', 'p_maxEcell_x', 'p_maxEcell_y', 'p_maxEcell_z', 'p_nCells_Lr0_HiG', 'p_nCells_Lr0_LowG', 'p_nCells_Lr0_MedG', 'p_nCells_Lr1_HiG', 'p_nCells_Lr1_LowG', 'p_nCells_Lr1_MedG', 'p_nCells_Lr2_HiG', 'p_nCells_Lr2_LowG', 'p_nCells_Lr2_MedG', 'p_nCells_Lr3_HiG', 'p_nCells_Lr3_LowG', 'p_nCells_Lr3_MedG', 'p_pos', 'p_pos7', 'p_poscs1', 'p_poscs2', 'p_ptconeCorrBitset', 'p_ptconecoreTrackPtrCorrection', 'p_r33over37allcalo', 'p_topoetconeCorrBitset', 'p_topoetconecoreConeEnergyCorrection', 'p_topoetconecoreConeSCEnergyCorrection', 'p_weta1', 'p_widths1', 'p_widths2', 'p_wtots1', 'p_e233', 'p_e237', 'p_e277', 'p_e2tsts1', 'p_ehad1', 'p_emaxs1', 'p_fracs1', 'p_DeltaE', 'p_E3x5_Lr0', 'p_E3x5_Lr1', 'p_E3x5_Lr2', 'p_E3x5_Lr3', 'p_E5x7_Lr0', 'p_E5x7_Lr1', 'p_E5x7_Lr2', 'p_E5x7_Lr3', 'p_E7x11_Lr0', 'p_E7x11_Lr1', 'p_E7x11_Lr2', 'p_E7x11_Lr3', 'p_E7x7_Lr0', 'p_E7x7_Lr1' ]\n",
    "\n",
    "\n",
    "X_train = train[all_variables][:130000]\n",
    "y_train = train['p_truth_E'][:130000]\n",
    "X_validate = train[all_variables][130000:]\n",
    "y_validate = train['p_truth_E'][130000:]\n",
    "X_test = test[all_variables]\n",
    "\n",
    "with open('Classification_JuliusFoverskov_XGBoost_VariableList.txt','r') as f:\n",
    "    sorted_variables = [item.strip() for item in f]\n",
    "\n",
    "# Only pick 15 most important features for clustering, importances optained from permutation importance\n",
    "sorted_variables = sorted_variables[:15]\n",
    "\n",
    "X_train = X_train[sorted_variables]\n",
    "X_validate = X_validate[sorted_variables]\n",
    "\n"
   ]
  },
  {
   "cell_type": "markdown",
   "id": "99d59061",
   "metadata": {},
   "source": [
    "# NN - Setup"
   ]
  },
  {
   "cell_type": "code",
   "execution_count": 3,
   "id": "0a426d06",
   "metadata": {},
   "outputs": [],
   "source": [
    "# set up the network hyperparameters\n",
    "n_inputs = 15\n",
    "n_hidden1 = 10\n",
    "n_hidden2 = 10\n",
    "n_outputs = 1\n",
    "batch_norm_momentum = 0.9\n",
    "learning_rate = 0.066\n",
    "init = tf.keras.initializers.VarianceScaling(scale=1.0, mode='fan_in')\n",
    "mse = tf.keras.losses.MeanSquaredError()\n",
    "\n",
    "# network structure\n",
    "nn_reg = tf.keras.models.Sequential([\n",
    "  Flatten(input_shape=(15, 1)),\n",
    "  Dense(n_hidden1, activation='ReLU'),\n",
    "  BatchNormalization(momentum=batch_norm_momentum, center=True, scale=True),\n",
    "  Dense(n_hidden2, activation='ReLU'),\n",
    "  BatchNormalization(momentum=batch_norm_momentum, center=True, scale=True),\n",
    "  Dense(n_outputs, activation='ReLU'),\n",
    "  BatchNormalization(momentum=batch_norm_momentum, center=True, scale=True)\n",
    "])\n",
    "\n",
    "nn_reg.compile(loss=mse, optimizer=SGD(learning_rate), metrics=['mse'])"
   ]
  },
  {
   "cell_type": "code",
   "execution_count": 4,
   "id": "bac1568b",
   "metadata": {},
   "outputs": [
    {
     "name": "stdout",
     "output_type": "stream",
     "text": [
      "INFO:tensorflow:Reloading Tuner from hyperparameter_tuning\\nn_regression\\tuner0.json\n",
      "INFO:tensorflow:Oracle triggered exit\n"
     ]
    },
    {
     "name": "stderr",
     "output_type": "stream",
     "text": [
      "C:\\Users\\Juliu\\AppData\\Local\\Temp\\ipykernel_16112\\2660619519.py:9: DeprecationWarning: `import kerastuner` is deprecated, please use `import keras_tuner`.\n",
      "  from kerastuner.tuners import RandomSearch\n"
     ]
    },
    {
     "name": "stdout",
     "output_type": "stream",
     "text": [
      "Best Hyperparameters:\n",
      "{'n_hidden1': 10, 'n_hidden2': 10, 'learning_rate': 0.066}\n"
     ]
    }
   ],
   "source": [
    "import tensorflow as tf\n",
    "from tensorflow import keras\n",
    "from tensorflow.keras import layers\n",
    "from tensorflow.keras.models import Sequential\n",
    "from tensorflow.keras.layers import Dense, Flatten, BatchNormalization\n",
    "from tensorflow.keras.optimizers import SGD\n",
    "from tensorflow.keras.initializers import VarianceScaling\n",
    "from tensorflow.keras.losses import MeanSquaredError\n",
    "from kerastuner.tuners import RandomSearch\n",
    "\n",
    "def build_model(hp):\n",
    "    n_inputs = 15\n",
    "    n_hidden1 = hp.Int('n_hidden1', min_value=5, max_value=20, step=5)\n",
    "    n_hidden2 = hp.Int('n_hidden2', min_value=5, max_value=20, step=5)\n",
    "    n_outputs = 1\n",
    "    batch_norm_momentum = 0.9 #hp.Float('batch_norm_momentum', min_value = 0.3, max_value = 0.99, step = 0.3)\n",
    "    learning_rate = hp.Float('learning_rate', min_value = 0.001, max_value = 0.1, step = 0.005)\n",
    "\n",
    "    model = Sequential([\n",
    "        Flatten(input_shape=(15, 1)),\n",
    "        Dense(n_hidden1, activation='relu'),\n",
    "        BatchNormalization(momentum=batch_norm_momentum, center=True, scale=True),\n",
    "        Dense(n_hidden2, activation='relu'),\n",
    "        BatchNormalization(momentum=batch_norm_momentum, center=True, scale=True),\n",
    "        Dense(n_outputs, activation='relu'),\n",
    "        BatchNormalization(momentum=batch_norm_momentum, center=True, scale=True)\n",
    "    ])\n",
    "\n",
    "    model.compile(\n",
    "        loss=MeanSquaredError(),\n",
    "        optimizer=SGD(learning_rate),\n",
    "        metrics=['mse']\n",
    "    )\n",
    "\n",
    "    return model\n",
    "\n",
    "tuner = RandomSearch(\n",
    "    build_model,\n",
    "    objective='val_loss',\n",
    "    max_trials=5,\n",
    "    executions_per_trial=3,\n",
    "    directory='hyperparameter_tuning',\n",
    "    project_name='nn_regression'\n",
    ")\n",
    "\n",
    "# Define your input data and target variable\n",
    "# X_train, y_train = ...\n",
    "# X_val, y_val = ...\n",
    "\n",
    "tuner.search(x=X_train, y=y_train,\n",
    "             epochs=4,\n",
    "             validation_data=(X_validate, y_validate))\n",
    "\n",
    "best_model = tuner.get_best_models(num_models=1)[0]\n",
    "best_hyperparameters = tuner.get_best_hyperparameters(num_trials=1)[0]\n",
    "\n",
    "print(\"Best Hyperparameters:\")\n",
    "print(best_hyperparameters.values)\n"
   ]
  },
  {
   "cell_type": "code",
   "execution_count": 5,
   "id": "a6e75a82",
   "metadata": {},
   "outputs": [
    {
     "name": "stdout",
     "output_type": "stream",
     "text": [
      "Epoch 1/12\n",
      "487/487 [==============================] - 2s 2ms/step - loss: 2210551296.0000 - mse: 2210551296.0000 - val_loss: 2055306368.0000 - val_mse: 2055306368.0000\n",
      "Epoch 2/12\n",
      "487/487 [==============================] - 1s 2ms/step - loss: 2029329920.0000 - mse: 2029329920.0000 - val_loss: 2086921600.0000 - val_mse: 2086921600.0000\n",
      "Epoch 3/12\n",
      "487/487 [==============================] - 1s 2ms/step - loss: 2030600320.0000 - mse: 2030600320.0000 - val_loss: 2031724672.0000 - val_mse: 2031724672.0000\n",
      "Epoch 4/12\n",
      "487/487 [==============================] - 1s 2ms/step - loss: 2028587648.0000 - mse: 2028587648.0000 - val_loss: 2067163392.0000 - val_mse: 2067163392.0000\n",
      "Epoch 5/12\n",
      "487/487 [==============================] - 1s 2ms/step - loss: 2028252160.0000 - mse: 2028252160.0000 - val_loss: 2076405888.0000 - val_mse: 2076405888.0000\n",
      "Epoch 6/12\n",
      "487/487 [==============================] - 1s 2ms/step - loss: 2028732928.0000 - mse: 2028732928.0000 - val_loss: 2042436608.0000 - val_mse: 2042436608.0000\n",
      "Epoch 7/12\n",
      "487/487 [==============================] - 1s 2ms/step - loss: 2029192832.0000 - mse: 2029192832.0000 - val_loss: 2061235072.0000 - val_mse: 2061235072.0000\n",
      "Epoch 8/12\n",
      "487/487 [==============================] - 1s 2ms/step - loss: 2027945600.0000 - mse: 2027945600.0000 - val_loss: 2064741632.0000 - val_mse: 2064741632.0000\n",
      "Epoch 9/12\n",
      "487/487 [==============================] - 1s 2ms/step - loss: 2028792704.0000 - mse: 2028792704.0000 - val_loss: 2070429312.0000 - val_mse: 2070429312.0000\n",
      "Epoch 10/12\n",
      "487/487 [==============================] - 1s 2ms/step - loss: 2028784256.0000 - mse: 2028784256.0000 - val_loss: 2071088128.0000 - val_mse: 2071088128.0000\n",
      "Epoch 11/12\n",
      "487/487 [==============================] - 1s 2ms/step - loss: 2028119680.0000 - mse: 2028119680.0000 - val_loss: 2061875328.0000 - val_mse: 2061875328.0000\n",
      "Epoch 12/12\n",
      "487/487 [==============================] - 1s 2ms/step - loss: 2029010816.0000 - mse: 2029010816.0000 - val_loss: 2058843008.0000 - val_mse: 2058843008.0000\n"
     ]
    }
   ],
   "source": [
    "n_epochs = 12\n",
    "batch_size = 200\n",
    "\n",
    "history = nn_reg.fit(X_train[train_mask], y_train[train_mask], epochs=n_epochs, batch_size=batch_size,\n",
    "                    validation_data=(X_validate[validate_mask], y_validate[validate_mask]))"
   ]
  },
  {
   "cell_type": "code",
   "execution_count": 6,
   "id": "943bb567",
   "metadata": {},
   "outputs": [
    {
     "name": "stdout",
     "output_type": "stream",
     "text": [
      "5021/5021 [==============================] - 4s 823us/step\n"
     ]
    }
   ],
   "source": [
    "preds = nn_reg.predict(X_test[sorted_variables])"
   ]
  },
  {
   "cell_type": "code",
   "execution_count": 7,
   "id": "031150b1",
   "metadata": {
    "scrolled": false
   },
   "outputs": [
    {
     "data": {
      "text/plain": [
       "<matplotlib.legend.Legend at 0x1d73a23c760>"
      ]
     },
     "execution_count": 7,
     "metadata": {},
     "output_type": "execute_result"
    },
    {
     "data": {
      "image/png": "[encoded data removed]",
      "text/plain": [
       "<Figure size 700x400 with 1 Axes>"
      ]
     },
     "metadata": {},
     "output_type": "display_data"
    }
   ],
   "source": [
    "import os\n",
    "# This is a hacky workaround to openMP libs being linked multiple times to the runtime, I have no idea why they are.\n",
    "os.environ[\"KMP_DUPLICATE_LIB_OK\"]=\"TRUE\"\n",
    "\n",
    "fig, ax = plt.subplots(figsize=(7, 4))\n",
    "ax.plot(np.arange(n_epochs) + 1, np.array(history.history['mse']) / np.mean(y_train), 'ks-', label='train accuracy')\n",
    "ax.plot(np.arange(n_epochs) + 1, np.array(history.history['val_mse']) / np.mean(y_train), 'bs-', label='validation accuracy')\n",
    "ax.set_ylabel('mse')\n",
    "ax.set_xlabel('Epoch')\n",
    "ax.legend()\n"
   ]
  },
  {
   "cell_type": "markdown",
   "id": "183d067e",
   "metadata": {},
   "source": [
    "## Save to file"
   ]
  },
  {
   "cell_type": "code",
   "execution_count": 8,
   "id": "8ee137e2",
   "metadata": {},
   "outputs": [],
   "source": [
    "# Write results to a file\n",
    "\n",
    "# Probabilities of particle being an electron\n",
    "with open('Regression_JuliusFoverskov_TF-NN.txt','w') as f:\n",
    "    # y_test_pred col 1 = electron probability\n",
    "    for index, prediction in zip(X_test.index, preds[:, 0]):\n",
    "        f.write(f\"{index}, {prediction}\\n\")\n",
    "\n",
    "# List of most important features from permutation importance for electron classification\n",
    "with open('Regression_JuliusFoverskov_TF-NN_VariableList.txt','w') as f:\n",
    "    f.write(\"\\n\".join(map(str, sorted_variables)))"
   ]
  },
  {
   "cell_type": "markdown",
   "id": "8e0bba34",
   "metadata": {},
   "source": [
    "# Residuals per individual datapoint"
   ]
  },
  {
   "cell_type": "code",
   "execution_count": 9,
   "id": "5623ce94",
   "metadata": {},
   "outputs": [
    {
     "name": "stdout",
     "output_type": "stream",
     "text": [
      "4063/4063 [==============================] - 4s 874us/step\n",
      "0        -0.133869\n",
      "1        -1.045040\n",
      "2        -0.769427\n",
      "3         0.010329\n",
      "4         0.021881\n",
      "            ...   \n",
      "129995   -0.030593\n",
      "129996   -0.435590\n",
      "129997   -0.034236\n",
      "129998   -0.236083\n",
      "129999    0.180823\n",
      "Length: 130000, dtype: float64\n"
     ]
    }
   ],
   "source": [
    "predictions = nn_reg.predict(X_train) # X is your input data\n",
    "predictions = pd.Series(predictions[:, 0])\n",
    "true_values = y_train  # y is your true output values\n",
    "\n",
    "# Calculate residuals\n",
    "residuals = true_values - predictions\n",
    "\n",
    "# Compute MSE\n",
    "mse = np.mean(np.square(residuals))\n",
    "\n",
    "# Individual errors or residuals for each data point\n",
    "print(residuals / np.mean(y_train))\n"
   ]
  },
  {
   "cell_type": "code",
   "execution_count": 10,
   "id": "5f19c0a4",
   "metadata": {},
   "outputs": [
    {
     "data": {
      "text/plain": [
       "array([[2.80796514e+15, 6.00000000e+05, 7.64071795e+02, ...,\n",
       "        4.52959352e+07, 4.65947577e+08, 8.03250000e+04],\n",
       "       [2.97977234e+15, 6.00000000e+05, 4.88934079e+02, ...,\n",
       "        1.59677703e+08, 1.65331505e+08, 1.26700949e+05],\n",
       "       [3.00007837e+15, 6.00000000e+05, 1.74771547e+02, ...,\n",
       "        3.83758448e+03, 5.73143049e+08, 1.73076898e+05],\n",
       "       ...,\n",
       "       [1.02109208e+15, 6.00000000e+05, 3.57978443e+02, ...,\n",
       "        3.83758448e+03, 2.40811013e+08, 7.45028379e+09],\n",
       "       [7.27613069e+14, 6.00000000e+05, 6.33116184e+02, ...,\n",
       "        1.13686583e+08, 4.95812307e+08, 7.45033016e+09],\n",
       "       [2.84652934e+15, 6.00000000e+05, 5.54542818e+02, ...,\n",
       "        3.83758448e+03, 7.72662094e+08, 7.45037654e+09]])"
      ]
     },
     "execution_count": 10,
     "metadata": {},
     "output_type": "execute_result"
    }
   ],
   "source": [
    "scaler_test = preprocessing.StandardScaler().fit(test)\n",
    "scaler_test.inverse_transform(test)"
   ]
  },
  {
   "cell_type": "code",
   "execution_count": 11,
   "id": "4050e8fc",
   "metadata": {
    "scrolled": false
   },
   "outputs": [
    {
     "data": {
      "text/plain": [
       "(array([1.41250e+04, 1.15743e+05, 1.30000e+02, 2.00000e+00]),\n",
       " array([-2.91960254, -0.80787692,  1.3038487 ,  3.41557432,  5.52729995]),\n",
       " <BarContainer object of 4 artists>)"
      ]
     },
     "execution_count": 11,
     "metadata": {},
     "output_type": "execute_result"
    },
    {
     "data": {
      "image/png": "[encoded data removed]",
      "text/plain": [
       "<Figure size 640x480 with 1 Axes>"
      ]
     },
     "metadata": {},
     "output_type": "display_data"
    }
   ],
   "source": [
    "plt.hist(residuals / np.mean(y_train), bins = 4) "
   ]
  }
 ],
 "metadata": {
  "kernelspec": {
   "display_name": "Python 3 (ipykernel)",
   "language": "python",
   "name": "python3"
  },
  "language_info": {
   "codemirror_mode": {
    "name": "ipython",
    "version": 3
   },
   "file_extension": ".py",
   "mimetype": "text/x-python",
   "name": "python",
   "nbconvert_exporter": "python",
   "pygments_lexer": "ipython3",
   "version": "3.9.13"
  }
 },
 "nbformat": 4,
 "nbformat_minor": 5
}
