{
 "cells": [
  {
   "cell_type": "markdown",
   "id": "ad383859",
   "metadata": {},
   "source": [
    "## Binary Classification"
   ]
  },
  {
   "cell_type": "code",
   "execution_count": 57,
   "id": "8d41c766",
   "metadata": {},
   "outputs": [],
   "source": [
    "import h5py\n",
    "import pandas\n",
    "import numpy as np\n",
    "\n",
    "def load_data(name):\n",
    "    with h5py.File(f'{name}.h5', 'r') as f:\n",
    "        filename = name.split('/')[1]\n",
    "        return pandas.DataFrame(f[filename][:], dtype=np.float64)\n",
    "\n",
    "train = load_data('data/train')\n",
    "test  = load_data('data/test')\n",
    "\n",
    "# Variable list from https://www.nbi.dk/~petersen/Teaching/ML2023/InitialProject/VariableList.html\n",
    "all_variables = ['actualInteractionsPerCrossing', 'averageInteractionsPerCrossing', 'correctedActualMu', 'correctedAverageMu', 'correctedScaledActualMu', 'correctedScaledAverageMu', 'NvtxReco', 'p_nTracks', 'p_pt_track', 'p_eta', 'p_phi', 'p_charge', 'p_qOverP', 'p_z0', 'p_d0', 'p_sigmad0', 'p_d0Sig', 'p_EptRatio', 'p_dPOverP', 'p_z0theta', 'p_etaCluster', 'p_phiCluster', 'p_eCluster', 'p_rawEtaCluster', 'p_rawPhiCluster', 'p_rawECluster', 'p_eClusterLr0', 'p_eClusterLr1', 'p_eClusterLr2', 'p_eClusterLr3', 'p_etaClusterLr1', 'p_etaClusterLr2', 'p_phiClusterLr2', 'p_eAccCluster', 'p_f0Cluster', 'p_etaCalo', 'p_phiCalo', 'p_eTileGap3Cluster', 'p_cellIndexCluster', 'p_phiModCalo', 'p_etaModCalo', 'p_dPhiTH3', 'p_R12', 'p_fTG3', 'p_weta2', 'p_Reta', 'p_Rphi', 'p_Eratio', 'p_f1', 'p_f3', 'p_Rhad', 'p_Rhad1', 'p_deltaEta1', 'p_deltaPhiRescaled2', 'p_TRTPID', 'p_TRTTrackOccupancy', 'p_numberOfInnermostPixelHits', 'p_numberOfPixelHits', 'p_numberOfSCTHits', 'p_numberOfTRTHits', 'p_numberOfTRTXenonHits', 'p_chi2', 'p_ndof', 'p_SharedMuonTrack', 'p_E7x7_Lr2', 'p_E7x7_Lr3', 'p_E_Lr0_HiG', 'p_E_Lr0_LowG', 'p_E_Lr0_MedG', 'p_E_Lr1_HiG', 'p_E_Lr1_LowG', 'p_E_Lr1_MedG', 'p_E_Lr2_HiG', 'p_E_Lr2_LowG', 'p_E_Lr2_MedG', 'p_E_Lr3_HiG', 'p_E_Lr3_LowG', 'p_E_Lr3_MedG', 'p_ambiguityType', 'p_asy1', 'p_author', 'p_barys1', 'p_core57cellsEnergyCorrection', 'p_deltaEta0', 'p_deltaEta2', 'p_deltaEta3', 'p_deltaPhi0', 'p_deltaPhi1', 'p_deltaPhi2', 'p_deltaPhi3', 'p_deltaPhiFromLastMeasurement', 'p_deltaPhiRescaled0', 'p_deltaPhiRescaled1', 'p_deltaPhiRescaled3', 'p_e1152', 'p_e132', 'p_e235', 'p_e255', 'p_e2ts1', 'p_ecore', 'p_emins1', 'p_etconeCorrBitset', 'p_ethad', 'p_ethad1', 'p_f1core', 'p_f3core', 'p_maxEcell_energy', 'p_maxEcell_gain', 'p_maxEcell_time', 'p_maxEcell_x', 'p_maxEcell_y', 'p_maxEcell_z', 'p_nCells_Lr0_HiG', 'p_nCells_Lr0_LowG', 'p_nCells_Lr0_MedG', 'p_nCells_Lr1_HiG', 'p_nCells_Lr1_LowG', 'p_nCells_Lr1_MedG', 'p_nCells_Lr2_HiG', 'p_nCells_Lr2_LowG', 'p_nCells_Lr2_MedG', 'p_nCells_Lr3_HiG', 'p_nCells_Lr3_LowG', 'p_nCells_Lr3_MedG', 'p_pos', 'p_pos7', 'p_poscs1', 'p_poscs2', 'p_ptconeCorrBitset', 'p_ptconecoreTrackPtrCorrection', 'p_r33over37allcalo', 'p_topoetconeCorrBitset', 'p_topoetconecoreConeEnergyCorrection', 'p_topoetconecoreConeSCEnergyCorrection', 'p_weta1', 'p_widths1', 'p_widths2', 'p_wtots1', 'p_e233', 'p_e237', 'p_e277', 'p_e2tsts1', 'p_ehad1', 'p_emaxs1', 'p_fracs1', 'p_DeltaE', 'p_E3x5_Lr0', 'p_E3x5_Lr1', 'p_E3x5_Lr2', 'p_E3x5_Lr3', 'p_E5x7_Lr0', 'p_E5x7_Lr1', 'p_E5x7_Lr2', 'p_E5x7_Lr3', 'p_E7x11_Lr0', 'p_E7x11_Lr1', 'p_E7x11_Lr2', 'p_E7x11_Lr3', 'p_E7x7_Lr0', 'p_E7x7_Lr1' ]\n",
    "subset_variables = ['p_e233', 'p_ehad1', 'p_E5x7_Lr2', 'p_f3core', 'p_deltaPhi0', 'p_f3', 'p_eAccCluster', 'p_dPOverP']\n",
    "\n",
    "X_train = train[all_variables][:130000]\n",
    "X_train = train[subset_variables][:130000]\n",
    "y_train = train['Truth'][:130000]\n",
    "X_validate = train[subset_variables][130000:]\n",
    "y_validate = train['Truth'][130000:]\n",
    "\n",
    "X_test = test[all_variables]\n",
    "X_test = test[subset_variables]"
   ]
  },
  {
   "cell_type": "code",
   "execution_count": 59,
   "id": "58b58a08",
   "metadata": {},
   "outputs": [
    {
     "data": {
      "text/html": [
       "<div>\n",
       "<style scoped>\n",
       "    .dataframe tbody tr th:only-of-type {\n",
       "        vertical-align: middle;\n",
       "    }\n",
       "\n",
       "    .dataframe tbody tr th {\n",
       "        vertical-align: top;\n",
       "    }\n",
       "\n",
       "    .dataframe thead th {\n",
       "        text-align: right;\n",
       "    }\n",
       "</style>\n",
       "<table border=\"1\" class=\"dataframe\">\n",
       "  <thead>\n",
       "    <tr style=\"text-align: right;\">\n",
       "      <th></th>\n",
       "      <th>p_e233</th>\n",
       "      <th>p_ehad1</th>\n",
       "      <th>p_E5x7_Lr2</th>\n",
       "      <th>p_f3core</th>\n",
       "      <th>p_deltaPhi0</th>\n",
       "      <th>p_f3</th>\n",
       "      <th>p_eAccCluster</th>\n",
       "      <th>p_dPOverP</th>\n",
       "    </tr>\n",
       "  </thead>\n",
       "  <tbody>\n",
       "    <tr>\n",
       "      <th>130000</th>\n",
       "      <td>67425.218750</td>\n",
       "      <td>8735.105469</td>\n",
       "      <td>84104.390625</td>\n",
       "      <td>0.042152</td>\n",
       "      <td>-999.000000</td>\n",
       "      <td>0.094921</td>\n",
       "      <td>112985.070312</td>\n",
       "      <td>0.892920</td>\n",
       "    </tr>\n",
       "    <tr>\n",
       "      <th>130001</th>\n",
       "      <td>59887.550781</td>\n",
       "      <td>-886.556763</td>\n",
       "      <td>70208.351562</td>\n",
       "      <td>0.001585</td>\n",
       "      <td>-0.021629</td>\n",
       "      <td>0.004510</td>\n",
       "      <td>113567.726562</td>\n",
       "      <td>0.623697</td>\n",
       "    </tr>\n",
       "    <tr>\n",
       "      <th>130002</th>\n",
       "      <td>131725.187500</td>\n",
       "      <td>857.446350</td>\n",
       "      <td>147001.609375</td>\n",
       "      <td>0.009244</td>\n",
       "      <td>-999.000000</td>\n",
       "      <td>0.029546</td>\n",
       "      <td>175571.406250</td>\n",
       "      <td>0.531074</td>\n",
       "    </tr>\n",
       "    <tr>\n",
       "      <th>130003</th>\n",
       "      <td>22964.546875</td>\n",
       "      <td>-2407.208740</td>\n",
       "      <td>24764.363281</td>\n",
       "      <td>0.000411</td>\n",
       "      <td>0.019436</td>\n",
       "      <td>0.004549</td>\n",
       "      <td>55062.882812</td>\n",
       "      <td>0.743662</td>\n",
       "    </tr>\n",
       "    <tr>\n",
       "      <th>130004</th>\n",
       "      <td>55317.187500</td>\n",
       "      <td>-726.846191</td>\n",
       "      <td>61250.128906</td>\n",
       "      <td>0.004358</td>\n",
       "      <td>-0.009390</td>\n",
       "      <td>0.005716</td>\n",
       "      <td>87878.125000</td>\n",
       "      <td>0.536734</td>\n",
       "    </tr>\n",
       "    <tr>\n",
       "      <th>...</th>\n",
       "      <td>...</td>\n",
       "      <td>...</td>\n",
       "      <td>...</td>\n",
       "      <td>...</td>\n",
       "      <td>...</td>\n",
       "      <td>...</td>\n",
       "      <td>...</td>\n",
       "      <td>...</td>\n",
       "    </tr>\n",
       "    <tr>\n",
       "      <th>162495</th>\n",
       "      <td>79224.000000</td>\n",
       "      <td>-256.751862</td>\n",
       "      <td>86889.070312</td>\n",
       "      <td>0.005298</td>\n",
       "      <td>-999.000000</td>\n",
       "      <td>0.011212</td>\n",
       "      <td>123652.023438</td>\n",
       "      <td>0.492270</td>\n",
       "    </tr>\n",
       "    <tr>\n",
       "      <th>162496</th>\n",
       "      <td>67145.000000</td>\n",
       "      <td>-104.133392</td>\n",
       "      <td>79933.289062</td>\n",
       "      <td>0.003244</td>\n",
       "      <td>-999.000000</td>\n",
       "      <td>0.006431</td>\n",
       "      <td>116509.882812</td>\n",
       "      <td>0.215564</td>\n",
       "    </tr>\n",
       "    <tr>\n",
       "      <th>162497</th>\n",
       "      <td>50148.660156</td>\n",
       "      <td>2010.042236</td>\n",
       "      <td>52808.492188</td>\n",
       "      <td>0.004215</td>\n",
       "      <td>0.010236</td>\n",
       "      <td>0.006144</td>\n",
       "      <td>81758.000000</td>\n",
       "      <td>0.549367</td>\n",
       "    </tr>\n",
       "    <tr>\n",
       "      <th>162498</th>\n",
       "      <td>119747.242188</td>\n",
       "      <td>-141.039429</td>\n",
       "      <td>134187.593750</td>\n",
       "      <td>0.005570</td>\n",
       "      <td>-999.000000</td>\n",
       "      <td>0.013704</td>\n",
       "      <td>183219.515625</td>\n",
       "      <td>0.960869</td>\n",
       "    </tr>\n",
       "    <tr>\n",
       "      <th>162499</th>\n",
       "      <td>54429.003906</td>\n",
       "      <td>68142.500000</td>\n",
       "      <td>73279.906250</td>\n",
       "      <td>0.070488</td>\n",
       "      <td>-999.000000</td>\n",
       "      <td>0.070675</td>\n",
       "      <td>94086.789062</td>\n",
       "      <td>0.206865</td>\n",
       "    </tr>\n",
       "  </tbody>\n",
       "</table>\n",
       "<p>32500 rows × 8 columns</p>\n",
       "</div>"
      ],
      "text/plain": [
       "               p_e233       p_ehad1     p_E5x7_Lr2  p_f3core  p_deltaPhi0  \\\n",
       "130000   67425.218750   8735.105469   84104.390625  0.042152  -999.000000   \n",
       "130001   59887.550781   -886.556763   70208.351562  0.001585    -0.021629   \n",
       "130002  131725.187500    857.446350  147001.609375  0.009244  -999.000000   \n",
       "130003   22964.546875  -2407.208740   24764.363281  0.000411     0.019436   \n",
       "130004   55317.187500   -726.846191   61250.128906  0.004358    -0.009390   \n",
       "...               ...           ...            ...       ...          ...   \n",
       "162495   79224.000000   -256.751862   86889.070312  0.005298  -999.000000   \n",
       "162496   67145.000000   -104.133392   79933.289062  0.003244  -999.000000   \n",
       "162497   50148.660156   2010.042236   52808.492188  0.004215     0.010236   \n",
       "162498  119747.242188   -141.039429  134187.593750  0.005570  -999.000000   \n",
       "162499   54429.003906  68142.500000   73279.906250  0.070488  -999.000000   \n",
       "\n",
       "            p_f3  p_eAccCluster  p_dPOverP  \n",
       "130000  0.094921  112985.070312   0.892920  \n",
       "130001  0.004510  113567.726562   0.623697  \n",
       "130002  0.029546  175571.406250   0.531074  \n",
       "130003  0.004549   55062.882812   0.743662  \n",
       "130004  0.005716   87878.125000   0.536734  \n",
       "...          ...            ...        ...  \n",
       "162495  0.011212  123652.023438   0.492270  \n",
       "162496  0.006431  116509.882812   0.215564  \n",
       "162497  0.006144   81758.000000   0.549367  \n",
       "162498  0.013704  183219.515625   0.960869  \n",
       "162499  0.070675   94086.789062   0.206865  \n",
       "\n",
       "[32500 rows x 8 columns]"
      ]
     },
     "execution_count": 59,
     "metadata": {},
     "output_type": "execute_result"
    }
   ],
   "source": [
    "X_validate"
   ]
  },
  {
   "cell_type": "markdown",
   "id": "4462660e",
   "metadata": {},
   "source": [
    "## Helper Functions"
   ]
  },
  {
   "cell_type": "code",
   "execution_count": 52,
   "id": "ffc16a6b",
   "metadata": {},
   "outputs": [],
   "source": [
    "from sklearn.metrics import accuracy_score\n",
    "\n",
    "def plot_boundary_results(X, y, clf):\n",
    "    # sample the whole X space with a meshgrid of probabilities\n",
    "    # predicted by out trained classifier\n",
    "    xx, yy = np.meshgrid(np.linspace(X[:,0].min(), X[:,0].max(), 300),\n",
    "                         np.linspace(X[:,1].min(), X[:,1].max(), 300))\n",
    "    X_bkg = np.c_[xx.ravel(), yy.ravel()]\n",
    "    y_bkg = clf.predict_proba(X_bkg)[:,0].reshape(xx.shape)\n",
    "    y_pred = clf.predict(X)\n",
    "\n",
    "    # plot the classification results\n",
    "    fig, ax = plt.subplots(1, figsize=(8, 5))\n",
    "    ax.contourf(xx, yy, y_bkg, cmap='brg', alpha=0.2) # coloured by class\n",
    "    ax.contour(xx, yy, y_bkg, cmap='brg', alpha=0.2) # coloured by class\n",
    "    ax.scatter(X[:,0][y_pred!=y], X[:,1][y_pred!=y], s=100, c='pink')\n",
    "    ax.scatter(X[:,0][y==0], X[:,1][y==0], s=20, c='g')\n",
    "    ax.scatter(X[:,0][y==1], X[:,1][y==1], s=20, c='b')\n",
    "    ax.set_xlabel(\"$x_1$\")\n",
    "    ax.set_ylabel(\"$x_2$\")\n",
    "    plt.tight_layout()\n",
    "    print(f\"Train accuracy: {accuracy_score(y_pred, y)*100.0:.2f}%\")"
   ]
  },
  {
   "cell_type": "markdown",
   "id": "f4f38c2e",
   "metadata": {},
   "source": [
    "## XGBoost Method"
   ]
  },
  {
   "cell_type": "code",
   "execution_count": 53,
   "id": "4f10d8a5",
   "metadata": {},
   "outputs": [
    {
     "name": "stderr",
     "output_type": "stream",
     "text": [
      "C:\\Users\\Juliu\\anaconda3\\lib\\site-packages\\xgboost\\sklearn.py:1395: UserWarning: `use_label_encoder` is deprecated in 1.7.0.\n",
      "  warnings.warn(\"`use_label_encoder` is deprecated in 1.7.0.\")\n"
     ]
    },
    {
     "data": {
      "text/plain": [
       "XGBClassifier(base_score=None, booster=None, callbacks=None,\n",
       "              colsample_bylevel=None, colsample_bynode=None,\n",
       "              colsample_bytree=None, early_stopping_rounds=None,\n",
       "              enable_categorical=False, eval_metric='logloss',\n",
       "              feature_types=None, gamma=None, gpu_id=None, grow_policy=None,\n",
       "              importance_type=None, interaction_constraints=None,\n",
       "              learning_rate=0.01, max_bin=None, max_cat_threshold=None,\n",
       "              max_cat_to_onehot=None, max_delta_step=None, max_depth=10,\n",
       "              max_leaves=None, min_child_weight=None, missing=nan,\n",
       "              monotone_constraints=None, n_estimators=300, n_jobs=None,\n",
       "              num_parallel_tree=None, predictor=None, random_state=None, ...)"
      ]
     },
     "execution_count": 53,
     "metadata": {},
     "output_type": "execute_result"
    }
   ],
   "source": [
    "import xgboost as xgb\n",
    "\n",
    "xgb_clf = xgb.XGBClassifier(objective='binary:logistic', learning_rate=0.01,\n",
    "                            max_depth=10, eval_metric='logloss', n_estimators=300,\n",
    "                            seed=42, use_label_encoder=False)\n",
    "xgb_clf.fit(X_train.values, y_train.values)\n"
   ]
  },
  {
   "cell_type": "code",
   "execution_count": 60,
   "id": "d8db98f6",
   "metadata": {},
   "outputs": [
    {
     "name": "stdout",
     "output_type": "stream",
     "text": [
      "Train accuracy: 91.96%\n",
      "Validation accuracy: 90.69%\n"
     ]
    },
    {
     "data": {
      "image/png": "[encoded data removed]",
      "text/plain": [
       "<Figure size 640x480 with 1 Axes>"
      ]
     },
     "metadata": {},
     "output_type": "display_data"
    }
   ],
   "source": [
    "xgb.plot_importance(xgb_clf)\n",
    "y_pred = xgb_clf.predict(X_train)\n",
    "y_validate_pred = xgb_clf.predict(X_validate)\n",
    "print(f\"Train accuracy: {accuracy_score(y_pred, y_train)*100.0:.2f}%\")\n",
    "print(f\"Validation accuracy: {accuracy_score(y_validate_pred, y_validate)*100.0:.2f}%\")"
   ]
  },
  {
   "cell_type": "markdown",
   "id": "a40febb4",
   "metadata": {},
   "source": [
    "## TODO"
   ]
  },
  {
   "cell_type": "markdown",
   "id": "008d7f0d",
   "metadata": {},
   "source": [
    "* Cross Validation\n",
    "* Expand on feature selection?\n",
    "* NN approach"
   ]
  },
  {
   "cell_type": "code",
   "execution_count": null,
   "id": "8483f72d",
   "metadata": {},
   "outputs": [],
   "source": []
  }
 ],
 "metadata": {
  "kernelspec": {
   "display_name": "Python 3 (ipykernel)",
   "language": "python",
   "name": "python3"
  },
  "language_info": {
   "codemirror_mode": {
    "name": "ipython",
    "version": 3
   },
   "file_extension": ".py",
   "mimetype": "text/x-python",
   "name": "python",
   "nbconvert_exporter": "python",
   "pygments_lexer": "ipython3",
   "version": "3.10.9"
  }
 },
 "nbformat": 4,
 "nbformat_minor": 5
}
